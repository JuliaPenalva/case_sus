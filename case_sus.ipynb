{
 "cells": [
  {
   "cell_type": "markdown",
   "id": "a7b32486",
   "metadata": {
    "heading_collapsed": true
   },
   "source": [
    "# 1. Business Problem"
   ]
  },
  {
   "cell_type": "markdown",
   "id": "b79f8ac0",
   "metadata": {
    "heading_collapsed": true,
    "hidden": true
   },
   "source": [
    "## 1.1 Introdução ao Problema"
   ]
  },
  {
   "cell_type": "markdown",
   "id": "a33300fa",
   "metadata": {
    "hidden": true
   },
   "source": [
    "Você foi contratado(a) para fazer uma análise apurada do número de internações no\n",
    "sistema de saúde brasileiro. Esta análise é de extrema importância para tomada de\n",
    "decisões que deverão contribuir para melhorias no sistema e planejamento estratégico.\n",
    "\n",
    "Para a análise foram fornecidos os dados referentes às internações que ocorreram no país durante o período de dez/17 a jul/19, separados por região e unidade de federação. \n",
    "\n",
    "Nosso objetivo é, através do dados, montar um planejamento estratégico para diminuir o número de internações em hospitais do SUS."
   ]
  },
  {
   "cell_type": "markdown",
   "id": "6b6e9019",
   "metadata": {
    "heading_collapsed": true
   },
   "source": [
    "# 2. Data cleaning"
   ]
  },
  {
   "cell_type": "markdown",
   "id": "d497949a",
   "metadata": {
    "hidden": true
   },
   "source": [
    "## 2.1 Library imports and settings"
   ]
  },
  {
   "cell_type": "code",
   "execution_count": 1,
   "id": "1f5774fc",
   "metadata": {
    "hidden": true
   },
   "outputs": [
    {
     "name": "stderr",
     "output_type": "stream",
     "text": [
      "/home/julia-penalva/.pyenv/versions/3.10.1/lib/python3.10/site-packages/pandas/compat/__init__.py:124: UserWarning: Could not import the lzma module. Your installed Python is incomplete. Attempting to use lzma compression will result in a RuntimeError.\n",
      "  warnings.warn(msg)\n"
     ]
    }
   ],
   "source": [
    "# imports que suportam o notebook\n",
    "import pandas as pd\n",
    "import numpy as np\n",
    "import re\n",
    "import seaborn as sns\n",
    "import matplotlib.pyplot as plt\n",
    "%matplotlib inline\n",
    "from datetime import datetime\n",
    "from unidecode import unidecode\n",
    "from sklearn.metrics import mean_absolute_error\n",
    "from sklearn.metrics import mean_squared_error\n",
    "from sklearn.linear_model import LinearRegression\n",
    "from statsmodels.tsa.ar_model import AutoReg\n",
    "import warnings\n",
    "warnings.filterwarnings('ignore', 'statsmodels.tsa.ar_model.AR', FutureWarning)\n",
    "pd.set_option('display.float_format', lambda x: '%.3f' % x)"
   ]
  },
  {
   "cell_type": "markdown",
   "id": "63ac945a",
   "metadata": {
    "hidden": true
   },
   "source": [
    "## 2.2 Data Import"
   ]
  },
  {
   "cell_type": "code",
   "execution_count": 2,
   "id": "49e0b8cd",
   "metadata": {
    "hidden": true
   },
   "outputs": [],
   "source": [
    "# importando os dados do excel disponível\n",
    "dfname=pd.ExcelFile('case_internacao_SUS.xls')\n",
    "sheets = dfname.sheet_names\n",
    "\n",
    "df=pd.DataFrame()\n",
    "\n",
    "for sheet in sheets:\n",
    "    xls = pd.ExcelFile('case_internacao_SUS.xls')\n",
    "    data = pd.read_excel(xls, sheet)\n",
    "    df = pd.concat([df, data], axis = 0)\n",
    "\n",
    "df.reset_index(drop = True, inplace = True)"
   ]
  },
  {
   "cell_type": "code",
   "execution_count": 3,
   "id": "eb106373",
   "metadata": {
    "hidden": true
   },
   "outputs": [
    {
     "data": {
      "text/html": [
       "<div>\n",
       "<style scoped>\n",
       "    .dataframe tbody tr th:only-of-type {\n",
       "        vertical-align: middle;\n",
       "    }\n",
       "\n",
       "    .dataframe tbody tr th {\n",
       "        vertical-align: top;\n",
       "    }\n",
       "\n",
       "    .dataframe thead th {\n",
       "        text-align: right;\n",
       "    }\n",
       "</style>\n",
       "<table border=\"1\" class=\"dataframe\">\n",
       "  <thead>\n",
       "    <tr style=\"text-align: right;\">\n",
       "      <th></th>\n",
       "      <th>Região/Unidade da Federação</th>\n",
       "      <th>Internações</th>\n",
       "      <th>AIH_aprovadas</th>\n",
       "      <th>Valor_total</th>\n",
       "      <th>Valor_serviços_hospitalares</th>\n",
       "      <th>Val_serv_hosp_-_compl_federal</th>\n",
       "      <th>Val_serv_hosp_-_compl_gestor</th>\n",
       "      <th>Valor_serviços_profissionais</th>\n",
       "      <th>Val_serv_prof_-_compl_federal</th>\n",
       "      <th>Val_serv_prof_-_compl_gestor</th>\n",
       "      <th>Valor_médio_AIH</th>\n",
       "      <th>Valor_médio_intern</th>\n",
       "      <th>Dias_permanência</th>\n",
       "      <th>Média_permanência</th>\n",
       "      <th>Óbitos</th>\n",
       "      <th>Taxa_mortalidade</th>\n",
       "    </tr>\n",
       "  </thead>\n",
       "  <tbody>\n",
       "    <tr>\n",
       "      <th>0</th>\n",
       "      <td>Região Norte</td>\n",
       "      <td>75363.000</td>\n",
       "      <td>75363.000</td>\n",
       "      <td>65821821.590</td>\n",
       "      <td>50592273.100</td>\n",
       "      <td>282125.280</td>\n",
       "      <td>-</td>\n",
       "      <td>14820122.530</td>\n",
       "      <td>-</td>\n",
       "      <td>-</td>\n",
       "      <td>873.400</td>\n",
       "      <td>873.400</td>\n",
       "      <td>358202.000</td>\n",
       "      <td>4.800</td>\n",
       "      <td>2149.000</td>\n",
       "      <td>2.850</td>\n",
       "    </tr>\n",
       "    <tr>\n",
       "      <th>1</th>\n",
       "      <td>.. Rondônia</td>\n",
       "      <td>9603.000</td>\n",
       "      <td>9603.000</td>\n",
       "      <td>9404751.410</td>\n",
       "      <td>7666945.900</td>\n",
       "      <td>-</td>\n",
       "      <td>-</td>\n",
       "      <td>1737805.510</td>\n",
       "      <td>-</td>\n",
       "      <td>-</td>\n",
       "      <td>979.360</td>\n",
       "      <td>979.360</td>\n",
       "      <td>53043.000</td>\n",
       "      <td>5.500</td>\n",
       "      <td>315.000</td>\n",
       "      <td>3.280</td>\n",
       "    </tr>\n",
       "    <tr>\n",
       "      <th>2</th>\n",
       "      <td>.. Amazonas</td>\n",
       "      <td>16248.000</td>\n",
       "      <td>16248.000</td>\n",
       "      <td>15624312.730</td>\n",
       "      <td>12166634.070</td>\n",
       "      <td>1221.310</td>\n",
       "      <td>-</td>\n",
       "      <td>3455637.920</td>\n",
       "      <td>-</td>\n",
       "      <td>-</td>\n",
       "      <td>961.610</td>\n",
       "      <td>961.610</td>\n",
       "      <td>85512.000</td>\n",
       "      <td>5.300</td>\n",
       "      <td>536.000</td>\n",
       "      <td>3.300</td>\n",
       "    </tr>\n",
       "    <tr>\n",
       "      <th>3</th>\n",
       "      <td>.. Roraima</td>\n",
       "      <td>4324.000</td>\n",
       "      <td>4324.000</td>\n",
       "      <td>3137537.400</td>\n",
       "      <td>2356231.680</td>\n",
       "      <td>-</td>\n",
       "      <td>-</td>\n",
       "      <td>781305.720</td>\n",
       "      <td>-</td>\n",
       "      <td>-</td>\n",
       "      <td>725.610</td>\n",
       "      <td>725.610</td>\n",
       "      <td>25560.000</td>\n",
       "      <td>5.900</td>\n",
       "      <td>171.000</td>\n",
       "      <td>3.950</td>\n",
       "    </tr>\n",
       "    <tr>\n",
       "      <th>4</th>\n",
       "      <td>.. Pará</td>\n",
       "      <td>34774.000</td>\n",
       "      <td>34774.000</td>\n",
       "      <td>28178633.440</td>\n",
       "      <td>21241354.070</td>\n",
       "      <td>248197.250</td>\n",
       "      <td>-</td>\n",
       "      <td>6581738.700</td>\n",
       "      <td>-</td>\n",
       "      <td>-</td>\n",
       "      <td>810.340</td>\n",
       "      <td>810.340</td>\n",
       "      <td>138135.000</td>\n",
       "      <td>4.000</td>\n",
       "      <td>832.000</td>\n",
       "      <td>2.390</td>\n",
       "    </tr>\n",
       "    <tr>\n",
       "      <th>...</th>\n",
       "      <td>...</td>\n",
       "      <td>...</td>\n",
       "      <td>...</td>\n",
       "      <td>...</td>\n",
       "      <td>...</td>\n",
       "      <td>...</td>\n",
       "      <td>...</td>\n",
       "      <td>...</td>\n",
       "      <td>...</td>\n",
       "      <td>...</td>\n",
       "      <td>...</td>\n",
       "      <td>...</td>\n",
       "      <td>...</td>\n",
       "      <td>...</td>\n",
       "      <td>...</td>\n",
       "      <td>...</td>\n",
       "    </tr>\n",
       "    <tr>\n",
       "      <th>475</th>\n",
       "      <td>.. Mato Grosso</td>\n",
       "      <td>14710.000</td>\n",
       "      <td>14786.000</td>\n",
       "      <td>15262067.840</td>\n",
       "      <td>12257906.250</td>\n",
       "      <td>970.380</td>\n",
       "      <td>-</td>\n",
       "      <td>3002675.520</td>\n",
       "      <td>-</td>\n",
       "      <td>-</td>\n",
       "      <td>1032.200</td>\n",
       "      <td>1037.530</td>\n",
       "      <td>69397.000</td>\n",
       "      <td>4.700</td>\n",
       "      <td>617.000</td>\n",
       "      <td>4.190</td>\n",
       "    </tr>\n",
       "    <tr>\n",
       "      <th>476</th>\n",
       "      <td>.. Goiás</td>\n",
       "      <td>26070.000</td>\n",
       "      <td>26646.000</td>\n",
       "      <td>33599752.120</td>\n",
       "      <td>26623057.010</td>\n",
       "      <td>327025.060</td>\n",
       "      <td>220665.440</td>\n",
       "      <td>6267858.480</td>\n",
       "      <td>220665.440</td>\n",
       "      <td>7093.390</td>\n",
       "      <td>1260.970</td>\n",
       "      <td>1288.830</td>\n",
       "      <td>125461.000</td>\n",
       "      <td>4.800</td>\n",
       "      <td>920.000</td>\n",
       "      <td>3.530</td>\n",
       "    </tr>\n",
       "    <tr>\n",
       "      <th>477</th>\n",
       "      <td>.. Distrito Federal</td>\n",
       "      <td>18473.000</td>\n",
       "      <td>18502.000</td>\n",
       "      <td>18496333.160</td>\n",
       "      <td>14775080.570</td>\n",
       "      <td>-</td>\n",
       "      <td>-</td>\n",
       "      <td>3721252.590</td>\n",
       "      <td>-</td>\n",
       "      <td>-</td>\n",
       "      <td>999.690</td>\n",
       "      <td>1001.260</td>\n",
       "      <td>104719.000</td>\n",
       "      <td>5.700</td>\n",
       "      <td>499.000</td>\n",
       "      <td>2.700</td>\n",
       "    </tr>\n",
       "    <tr>\n",
       "      <th>478</th>\n",
       "      <td>Total</td>\n",
       "      <td>947202.000</td>\n",
       "      <td>961714.000</td>\n",
       "      <td>1226362165.530</td>\n",
       "      <td>977366196.170</td>\n",
       "      <td>3253568.730</td>\n",
       "      <td>350177.940</td>\n",
       "      <td>243394470.770</td>\n",
       "      <td>350177.940</td>\n",
       "      <td>244937.510</td>\n",
       "      <td>1275.180</td>\n",
       "      <td>1294.720</td>\n",
       "      <td>4968008.000</td>\n",
       "      <td>5.200</td>\n",
       "      <td>39496.000</td>\n",
       "      <td>4.170</td>\n",
       "    </tr>\n",
       "    <tr>\n",
       "      <th>479</th>\n",
       "      <td></td>\n",
       "      <td>NaN</td>\n",
       "      <td>NaN</td>\n",
       "      <td>NaN</td>\n",
       "      <td>NaN</td>\n",
       "      <td>NaN</td>\n",
       "      <td>NaN</td>\n",
       "      <td>NaN</td>\n",
       "      <td>NaN</td>\n",
       "      <td>NaN</td>\n",
       "      <td>NaN</td>\n",
       "      <td>NaN</td>\n",
       "      <td>NaN</td>\n",
       "      <td>NaN</td>\n",
       "      <td>NaN</td>\n",
       "      <td>NaN</td>\n",
       "    </tr>\n",
       "  </tbody>\n",
       "</table>\n",
       "<p>480 rows × 16 columns</p>\n",
       "</div>"
      ],
      "text/plain": [
       "    Região/Unidade da Federação  Internações  AIH_aprovadas    Valor_total  \\\n",
       "0                  Região Norte    75363.000      75363.000   65821821.590   \n",
       "1                   .. Rondônia     9603.000       9603.000    9404751.410   \n",
       "2                   .. Amazonas    16248.000      16248.000   15624312.730   \n",
       "3                    .. Roraima     4324.000       4324.000    3137537.400   \n",
       "4                       .. Pará    34774.000      34774.000   28178633.440   \n",
       "..                          ...          ...            ...            ...   \n",
       "475              .. Mato Grosso    14710.000      14786.000   15262067.840   \n",
       "476                    .. Goiás    26070.000      26646.000   33599752.120   \n",
       "477         .. Distrito Federal    18473.000      18502.000   18496333.160   \n",
       "478                       Total   947202.000     961714.000 1226362165.530   \n",
       "479                                      NaN            NaN            NaN   \n",
       "\n",
       "     Valor_serviços_hospitalares Val_serv_hosp_-_compl_federal  \\\n",
       "0                   50592273.100                    282125.280   \n",
       "1                    7666945.900                             -   \n",
       "2                   12166634.070                      1221.310   \n",
       "3                    2356231.680                             -   \n",
       "4                   21241354.070                    248197.250   \n",
       "..                           ...                           ...   \n",
       "475                 12257906.250                       970.380   \n",
       "476                 26623057.010                    327025.060   \n",
       "477                 14775080.570                             -   \n",
       "478                977366196.170                   3253568.730   \n",
       "479                          NaN                           NaN   \n",
       "\n",
       "    Val_serv_hosp_-_compl_gestor  Valor_serviços_profissionais  \\\n",
       "0                              -                  14820122.530   \n",
       "1                              -                   1737805.510   \n",
       "2                              -                   3455637.920   \n",
       "3                              -                    781305.720   \n",
       "4                              -                   6581738.700   \n",
       "..                           ...                           ...   \n",
       "475                            -                   3002675.520   \n",
       "476                   220665.440                   6267858.480   \n",
       "477                            -                   3721252.590   \n",
       "478                   350177.940                 243394470.770   \n",
       "479                          NaN                           NaN   \n",
       "\n",
       "    Val_serv_prof_-_compl_federal Val_serv_prof_-_compl_gestor  \\\n",
       "0                               -                            -   \n",
       "1                               -                            -   \n",
       "2                               -                            -   \n",
       "3                               -                            -   \n",
       "4                               -                            -   \n",
       "..                            ...                          ...   \n",
       "475                             -                            -   \n",
       "476                    220665.440                     7093.390   \n",
       "477                             -                            -   \n",
       "478                    350177.940                   244937.510   \n",
       "479                           NaN                          NaN   \n",
       "\n",
       "     Valor_médio_AIH  Valor_médio_intern  Dias_permanência  Média_permanência  \\\n",
       "0            873.400             873.400        358202.000              4.800   \n",
       "1            979.360             979.360         53043.000              5.500   \n",
       "2            961.610             961.610         85512.000              5.300   \n",
       "3            725.610             725.610         25560.000              5.900   \n",
       "4            810.340             810.340        138135.000              4.000   \n",
       "..               ...                 ...               ...                ...   \n",
       "475         1032.200            1037.530         69397.000              4.700   \n",
       "476         1260.970            1288.830        125461.000              4.800   \n",
       "477          999.690            1001.260        104719.000              5.700   \n",
       "478         1275.180            1294.720       4968008.000              5.200   \n",
       "479              NaN                 NaN               NaN                NaN   \n",
       "\n",
       "       Óbitos  Taxa_mortalidade  \n",
       "0    2149.000             2.850  \n",
       "1     315.000             3.280  \n",
       "2     536.000             3.300  \n",
       "3     171.000             3.950  \n",
       "4     832.000             2.390  \n",
       "..        ...               ...  \n",
       "475   617.000             4.190  \n",
       "476   920.000             3.530  \n",
       "477   499.000             2.700  \n",
       "478 39496.000             4.170  \n",
       "479       NaN               NaN  \n",
       "\n",
       "[480 rows x 16 columns]"
      ]
     },
     "execution_count": 3,
     "metadata": {},
     "output_type": "execute_result"
    }
   ],
   "source": [
    "# olhando pela primeira vez nossos dados para entendermos o que faremos primeiro\n",
    "df"
   ]
  },
  {
   "cell_type": "markdown",
   "id": "5d9caae3",
   "metadata": {
    "hidden": true
   },
   "source": [
    "A princípio, vemos dados faltantes e a coluna de Região/Unidade da Federação precisando de formatação. Vamos explorar também os tipos atriuídos às variáveis e analisar as outras colunas para identificarmos necessidade de tratamento de dados faltantes."
   ]
  },
  {
   "cell_type": "markdown",
   "id": "56e71fa4",
   "metadata": {
    "hidden": true
   },
   "source": [
    "## 2.3 Data processing"
   ]
  },
  {
   "cell_type": "markdown",
   "id": "f0e4cfef",
   "metadata": {
    "hidden": true
   },
   "source": [
    "Nessa etapa vamos fazer a limpeza e formatação dos dados."
   ]
  },
  {
   "cell_type": "markdown",
   "id": "eb3c619c",
   "metadata": {
    "hidden": true
   },
   "source": [
    "**Nomes das colunas**\n",
    "\n",
    "A primeira coisa que vamos fazer é trocar o nome das colunas para que seja mais fácil trabalhar com elas, para isso foram usadas siglas, explicadas abaixo: \n",
    "* AIH: Autorização de Internação Hospitalar\n",
    "* VSH: Valor dos Serviços Hospitalares\n",
    "* VSP: Valor dos Serviços Profissionais"
   ]
  },
  {
   "cell_type": "code",
   "execution_count": 4,
   "id": "ba0b9c20",
   "metadata": {
    "hidden": true
   },
   "outputs": [],
   "source": [
    "df = df.rename(columns = {\n",
    "                'Valor_serviços_hospitalares': 'vsh',\n",
    "                'Val_serv_hosp_-_compl_federal': 'vsh_comp_fed',\n",
    "                'Val_serv_hosp_-_compl_gestor': 'vsh_comp_gest',\n",
    "                'Valor_serviços_profissionais': 'vsp',\n",
    "                'Val_serv_prof_-_compl_federal': 'vsp_comp_fed',\n",
    "                'Val_serv_prof_-_compl_gestor': 'vsp_comp_gest',\n",
    "                'Região/Unidade da Federação': 'estado',\n",
    "                'AIH_aprovadas': 'aih_aprvd',\n",
    "                'Valor_total': 'valor_total',\n",
    "                'Valor_médio_AIH': 'valor_medio_aih',\n",
    "                'Valor_médio_intern': 'valor_medio_intern',\n",
    "                'Dias_permanência': 'dias_permanencia',\n",
    "                'Média_permanência': 'media_permanencia',\n",
    "                'Óbitos': 'obitos',\n",
    "                'Taxa_mortalidade': 'taxa_mortalidade',\n",
    "                'Internações': 'internacoes'\n",
    "        })"
   ]
  },
  {
   "cell_type": "markdown",
   "id": "185f91ee",
   "metadata": {
    "hidden": true
   },
   "source": [
    "**Tipos das colunas**"
   ]
  },
  {
   "cell_type": "code",
   "execution_count": 5,
   "id": "fa41431b",
   "metadata": {
    "hidden": true
   },
   "outputs": [
    {
     "data": {
      "text/plain": [
       "estado                 object\n",
       "internacoes           float64\n",
       "aih_aprvd             float64\n",
       "valor_total           float64\n",
       "vsh                   float64\n",
       "vsh_comp_fed           object\n",
       "vsh_comp_gest          object\n",
       "vsp                   float64\n",
       "vsp_comp_fed           object\n",
       "vsp_comp_gest          object\n",
       "valor_medio_aih       float64\n",
       "valor_medio_intern    float64\n",
       "dias_permanencia      float64\n",
       "media_permanencia     float64\n",
       "obitos                float64\n",
       "taxa_mortalidade      float64\n",
       "dtype: object"
      ]
     },
     "execution_count": 5,
     "metadata": {},
     "output_type": "execute_result"
    }
   ],
   "source": [
    "df.dtypes"
   ]
  },
  {
   "cell_type": "markdown",
   "id": "ca624d21",
   "metadata": {
    "hidden": true
   },
   "source": [
    "Aparentemente os tipos das variáveis Val_serv_hosp_-_compl_federal, Val_serv_hosp_-_compl_gestor, Val_serv_prof_-_compl_federal e Val_serv_prof_-_compl_gestor_ estão incorretos, dado que são valores numéricos. \n",
    "\n",
    "Para isso, vamos ter que substituir os valores de '-' por 0 e posteriormente transformar o tipo das colunas, como demonstrado abaixo:"
   ]
  },
  {
   "cell_type": "code",
   "execution_count": 6,
   "id": "0c896f86",
   "metadata": {
    "hidden": true
   },
   "outputs": [],
   "source": [
    "# , Val_serv_hosp_-_compl_gestor, Val_serv_prof_-_compl_federal e Val_serv_prof_-_compl_gestor_\n",
    "df['vsh_comp_fed'] = df['vsh_comp_fed'].apply(lambda x: str(x).replace('-', '0'))\n",
    "df['vsh_comp_fed'] = df['vsh_comp_fed'].astype('float')\n",
    "\n",
    "df['vsh_comp_gest'] = df['vsh_comp_gest'].apply(lambda x: str(x).replace('-', '0'))\n",
    "df['vsh_comp_gest'] = df['vsh_comp_gest'].astype('float')\n",
    "\n",
    "df['vsp_comp_fed'] = df['vsp_comp_fed'].apply(lambda x: str(x).replace('-', '0'))\n",
    "df['vsp_comp_fed'] = df['vsp_comp_fed'].astype('float')\n",
    "\n",
    "df['vsp_comp_gest'] = df['vsp_comp_gest'].apply(lambda x: str(x).replace('-', '0'))\n",
    "df['vsp_comp_gest'] = df['vsp_comp_gest'].astype('float')"
   ]
  },
  {
   "cell_type": "markdown",
   "id": "d6ecd600",
   "metadata": {
    "hidden": true
   },
   "source": [
    "**Coluna 'estado' - primeira limpeza**\n",
    "\n",
    "Vamos fazer duas etapas de limpeza na coluna 'estado': \n",
    "\n",
    "    1- Primeiramente vamos retirar quaisquer valores nulos e as sujeiras nos nomes dos estados;\n",
    "    2- Depois vamos deixar a coluna somente com os nomes dos estados, retirando \"Totais\" e as regiões;\n",
    "\n",
    "Essa segragação foi feita pois vamos usar a coluna de \"Totais\" como referência para acrescentarmos a coluna de as datas das observações e, posteriormente, criar uma coluna com as regiões."
   ]
  },
  {
   "cell_type": "code",
   "execution_count": 7,
   "id": "ee897660",
   "metadata": {
    "hidden": true
   },
   "outputs": [
    {
     "data": {
      "text/plain": [
       "array(['Região Norte', '.. Rondônia', '.. Amazonas', '.. Roraima',\n",
       "       '.. Pará', '.. Amapá', '.. Tocantins', 'Região Nordeste',\n",
       "       '.. Maranhão', '.. Piauí', '.. Ceará', '.. Rio Grande do Norte',\n",
       "       '.. Paraíba', '.. Pernambuco', '.. Alagoas', '.. Sergipe',\n",
       "       '.. Bahia', 'Região Sudeste', '.. Minas Gerais',\n",
       "       '.. Espírito Santo', '.. Rio de Janeiro', '.. São Paulo',\n",
       "       'Região Sul', '.. Paraná', '.. Santa Catarina',\n",
       "       '.. Rio Grande do Sul', 'Região Centro-Oeste',\n",
       "       '.. Mato Grosso do Sul', '.. Mato Grosso', '.. Goiás',\n",
       "       '.. Distrito Federal', 'Total', nan, ' ', '.. Acre'], dtype=object)"
      ]
     },
     "execution_count": 7,
     "metadata": {},
     "output_type": "execute_result"
    }
   ],
   "source": [
    "# vendo os valores únicos na coluna de estado\n",
    "df['estado'].unique()\n",
    "# além dos estados que queremos manter, temos sujeiras como \"Total\", valores nulos e \" \" "
   ]
  },
  {
   "cell_type": "code",
   "execution_count": 8,
   "id": "11734dbe",
   "metadata": {
    "hidden": true
   },
   "outputs": [],
   "source": [
    "# observamos que as linhas cujo valor do estado era nulo ou vazio estavam completamente vazias, portanto serão deletadas\n",
    "vazio = df[(df['estado'] == 'nan') | (df['estado'] == ' ')].index.to_list()\n",
    "df.drop(labels = vazio, axis = 0, inplace = True)\n",
    "df.reset_index(drop = True, inplace = True)\n",
    "# como já fo comentado, vamos manter o \"Total\" para utilizarmos depois \n",
    "\n",
    "# deletando os .. no nome dos estados\n",
    "df['estado'] = df['estado'].apply(lambda x: str(x).replace('.. ', ''))"
   ]
  },
  {
   "cell_type": "markdown",
   "id": "97d3afad",
   "metadata": {
    "hidden": true
   },
   "source": [
    "**Acrescentar e tratar coluna de datas**\n",
    "\n",
    "Do arquivo em excel que importamos os dados, cada aba representada um mês de observação. Para acrescentarmos essa dimensão aos nossos dados vamos utilizar a linha de 'Total', que representa o fim dos dados de cada uma das abas."
   ]
  },
  {
   "cell_type": "code",
   "execution_count": 9,
   "id": "4014566a",
   "metadata": {
    "hidden": true,
    "scrolled": true
   },
   "outputs": [
    {
     "name": "stderr",
     "output_type": "stream",
     "text": [
      "/tmp/ipykernel_14537/2776702178.py:3: SettingWithCopyWarning: \n",
      "A value is trying to be set on a copy of a slice from a DataFrame.\n",
      "Try using .loc[row_indexer,col_indexer] = value instead\n",
      "\n",
      "See the caveats in the documentation: https://pandas.pydata.org/pandas-docs/stable/user_guide/indexing.html#returning-a-view-versus-a-copy\n",
      "  totais['month_year'] = sheets\n"
     ]
    }
   ],
   "source": [
    "# primeiro criamos um dataframe só com as linhas de \"Total\" e seus índices\n",
    "totais = df[df['estado'] == 'Total']\n",
    "totais['month_year'] = sheets\n",
    "totais = totais.reset_index()\n",
    "\n",
    "# traduzindo os meses para inglês\n",
    "totais['month_year'] = totais['month_year'].apply(lambda x: x.replace('fev','feb'))\n",
    "totais['month_year'] = totais['month_year'].apply(lambda x: x.replace('abr','apr'))\n",
    "totais['month_year'] = totais['month_year'].apply(lambda x: x.replace('mai','may'))\n",
    "totais['month_year'] = totais['month_year'].apply(lambda x: x.replace('ago','aug'))\n",
    "totais['month_year'] = totais['month_year'].apply(lambda x: x.replace('set','sep'))\n",
    "totais['month_year'] = totais['month_year'].apply(lambda x: x.replace('out','oct'))\n",
    "totais['month_year'] = totais['month_year'].apply(lambda x: x.replace('dez','dec'))\n",
    "\n",
    "# mudando o tipo de data\n",
    "totais['month_year'] = totais['month_year'].apply(lambda x: datetime.strptime(x,'%b%y')) \n",
    "totais.rename(columns={'month_year': 'date'}, inplace = True)"
   ]
  },
  {
   "cell_type": "code",
   "execution_count": 10,
   "id": "2ac79a47",
   "metadata": {
    "hidden": true
   },
   "outputs": [],
   "source": [
    "# vamos criar um novo dataframe, baseado no primeiro, mas com o index como coluna para unirmos ao total\n",
    "df2 = df.reset_index()\n",
    "df2 = pd.merge(df2, totais, how = 'left', on='index')"
   ]
  },
  {
   "cell_type": "code",
   "execution_count": 11,
   "id": "1eea1104",
   "metadata": {
    "hidden": true
   },
   "outputs": [],
   "source": [
    "# agora vamos ajustar o df2\n",
    "# dropamos colunas repetidas\n",
    "dropped = ['estado_y', 'internacoes_y', 'aih_aprvd_y',\n",
    "       'valor_total_y', 'vsh_y', 'vsh_comp_fed_y', 'vsh_comp_gest_y', 'vsp_y',\n",
    "       'vsp_comp_fed_y', 'vsp_comp_gest_y', 'valor_medio_aih_y',\n",
    "       'valor_medio_intern_y', 'dias_permanencia_y', 'media_permanencia_y',\n",
    "       'obitos_y', 'taxa_mortalidade_y','index']\n",
    "df2.drop(dropped, axis = 1, inplace = True)\n",
    "\n",
    "## renomeando colunas\n",
    "colunas = df.columns.to_list()\n",
    "colunas.append('month_year')\n",
    "\n",
    "df2.set_axis(colunas, axis = 1, inplace = True)"
   ]
  },
  {
   "cell_type": "code",
   "execution_count": 12,
   "id": "b2ceb434",
   "metadata": {
    "hidden": true
   },
   "outputs": [],
   "source": [
    "# preenchendo mês e ano para todas as ocorrências\n",
    "df2['month_year'].bfill(inplace=True)"
   ]
  },
  {
   "cell_type": "markdown",
   "id": "599451da",
   "metadata": {
    "hidden": true
   },
   "source": [
    "**Coluna 'estado' - segunda limpeza****\n",
    "\n",
    "Agora que temos nossa coluna de datas preenchida no formato correto, podemos nos livrar das linhas de 'Totais' e segregar as regiões em uma nova coluna."
   ]
  },
  {
   "cell_type": "code",
   "execution_count": 13,
   "id": "ed610c83",
   "metadata": {
    "hidden": true
   },
   "outputs": [],
   "source": [
    "# dropando linhas de totais\n",
    "list1 = df2[df2['estado'] == 'Total'].index\n",
    "df2.drop(list1, axis = 0, inplace=True)\n",
    "\n",
    "# criando a nova coluna de região e preenchendo ela\n",
    "df2['regiao'] = df2['estado'].apply(lambda x: re.search('Região.+', x))\n",
    "df2['regiao'] = df2['regiao'].apply(lambda x: x.group(0) if pd.notnull(x) else x)\n",
    "\n",
    "df2['regiao'] = df2['regiao'].apply(lambda x: x.replace('Região Norte', 'norte') if pd.notnull(x) else x)\n",
    "df2['regiao'] = df2['regiao'].apply(lambda x: x.replace('Região Nordeste', 'nordeste') if pd.notnull(x) else x)\n",
    "df2['regiao'] = df2['regiao'].apply(lambda x: x.replace('Região Sudeste', 'sudeste') if pd.notnull(x) else x)\n",
    "df2['regiao'] = df2['regiao'].apply(lambda x: x.replace('Região Sul', 'sul') if pd.notnull(x) else x)\n",
    "df2['regiao'] = df2['regiao'].apply(lambda x: x.replace('Região Centro-Oeste', 'centro_oeste') if pd.notnull(x) else x)\n",
    "\n",
    "df2['regiao'].ffill(inplace=True)"
   ]
  },
  {
   "cell_type": "code",
   "execution_count": 14,
   "id": "b492d42b",
   "metadata": {
    "hidden": true
   },
   "outputs": [],
   "source": [
    "# dropando as linhas de região dentro da coluna de estado\n",
    "list1 = df2[(df2['estado'] == 'Região Norte') | (df2['estado'] == 'Região Nordeste') | (df2['estado'] == 'Região Sudeste') | (df2['estado'] == 'Região Sul') | (df2['estado'] == 'Região Centro-Oeste')].index.to_list()\n",
    "\n",
    "df2.drop(list1, axis = 0, inplace = True)"
   ]
  },
  {
   "cell_type": "code",
   "execution_count": 15,
   "id": "23a55538",
   "metadata": {
    "hidden": true
   },
   "outputs": [],
   "source": [
    "# ajustando o nome dos estados como snake_case\n",
    "df2['estado'] = df2['estado'].apply(lambda x: x.lower())\n",
    "df2['estado'] = df2['estado'].apply(lambda x: x.replace(' ', '_'))\n",
    "df2['estado'] = df2['estado'].apply(lambda x: unidecode(x))"
   ]
  },
  {
   "cell_type": "code",
   "execution_count": 16,
   "id": "5495880f",
   "metadata": {
    "hidden": true
   },
   "outputs": [],
   "source": [
    "# rearrumando a ordem das colunas\n",
    "df2 = df2[\n",
    "['regiao',\n",
    " 'estado',\n",
    " 'internacoes',\n",
    " 'aih_aprvd',\n",
    " 'valor_total',\n",
    " 'vsh',\n",
    " 'vsh_comp_fed',\n",
    " 'vsh_comp_gest',\n",
    " 'vsp',\n",
    " 'vsp_comp_fed',\n",
    " 'vsp_comp_gest',\n",
    " 'valor_medio_aih',\n",
    " 'valor_medio_intern',\n",
    " 'dias_permanencia',\n",
    " 'media_permanencia',\n",
    " 'obitos',\n",
    " 'taxa_mortalidade',\n",
    " 'month_year']\n",
    "]"
   ]
  },
  {
   "cell_type": "code",
   "execution_count": 17,
   "id": "7daaa705",
   "metadata": {
    "hidden": true
   },
   "outputs": [],
   "source": [
    "# agora faremos o check final para averiguarmos a necessidade de tratamento adicional\n",
    "df2.isnull().sum() / df2.shape[0]\n",
    "# ainda temos 5 valores vazios em algumas colunas, que representam 1.3% dos nossos dados.\n",
    "# como os valores representam uma parcela muito pequena dos nossos dados, vamos deletar.\n",
    "df2.dropna(axis = 0, inplace = True)"
   ]
  },
  {
   "cell_type": "code",
   "execution_count": 18,
   "id": "5a9bd404",
   "metadata": {
    "hidden": true
   },
   "outputs": [
    {
     "data": {
      "text/plain": [
       "regiao               0.000\n",
       "estado               0.000\n",
       "internacoes          0.000\n",
       "aih_aprvd            0.000\n",
       "valor_total          0.000\n",
       "vsh                  0.000\n",
       "vsh_comp_fed         0.000\n",
       "vsh_comp_gest        0.000\n",
       "vsp                  0.000\n",
       "vsp_comp_fed         0.000\n",
       "vsp_comp_gest        0.000\n",
       "valor_medio_aih      0.000\n",
       "valor_medio_intern   0.000\n",
       "dias_permanencia     0.000\n",
       "media_permanencia    0.000\n",
       "obitos               0.000\n",
       "taxa_mortalidade     0.000\n",
       "month_year           0.000\n",
       "dtype: float64"
      ]
     },
     "execution_count": 18,
     "metadata": {},
     "output_type": "execute_result"
    }
   ],
   "source": [
    "# agora não temos valores nulos\n",
    "df2.isnull().sum() / df2.shape[0]"
   ]
  },
  {
   "cell_type": "code",
   "execution_count": 19,
   "id": "6838673f",
   "metadata": {
    "hidden": true
   },
   "outputs": [
    {
     "data": {
      "text/html": [
       "<div>\n",
       "<style scoped>\n",
       "    .dataframe tbody tr th:only-of-type {\n",
       "        vertical-align: middle;\n",
       "    }\n",
       "\n",
       "    .dataframe tbody tr th {\n",
       "        vertical-align: top;\n",
       "    }\n",
       "\n",
       "    .dataframe thead th {\n",
       "        text-align: right;\n",
       "    }\n",
       "</style>\n",
       "<table border=\"1\" class=\"dataframe\">\n",
       "  <thead>\n",
       "    <tr style=\"text-align: right;\">\n",
       "      <th></th>\n",
       "      <th>regiao</th>\n",
       "      <th>estado</th>\n",
       "      <th>internacoes</th>\n",
       "      <th>aih_aprvd</th>\n",
       "      <th>valor_total</th>\n",
       "      <th>vsh</th>\n",
       "      <th>vsh_comp_fed</th>\n",
       "      <th>vsh_comp_gest</th>\n",
       "      <th>vsp</th>\n",
       "      <th>vsp_comp_fed</th>\n",
       "      <th>vsp_comp_gest</th>\n",
       "      <th>valor_medio_aih</th>\n",
       "      <th>valor_medio_intern</th>\n",
       "      <th>dias_permanencia</th>\n",
       "      <th>media_permanencia</th>\n",
       "      <th>obitos</th>\n",
       "      <th>taxa_mortalidade</th>\n",
       "      <th>month_year</th>\n",
       "    </tr>\n",
       "  </thead>\n",
       "  <tbody>\n",
       "    <tr>\n",
       "      <th>1</th>\n",
       "      <td>norte</td>\n",
       "      <td>rondonia</td>\n",
       "      <td>9603.000</td>\n",
       "      <td>9603.000</td>\n",
       "      <td>9404751.410</td>\n",
       "      <td>7666945.900</td>\n",
       "      <td>0.000</td>\n",
       "      <td>0.000</td>\n",
       "      <td>1737805.510</td>\n",
       "      <td>0.000</td>\n",
       "      <td>0.000</td>\n",
       "      <td>979.360</td>\n",
       "      <td>979.360</td>\n",
       "      <td>53043.000</td>\n",
       "      <td>5.500</td>\n",
       "      <td>315.000</td>\n",
       "      <td>3.280</td>\n",
       "      <td>2019-07-01</td>\n",
       "    </tr>\n",
       "    <tr>\n",
       "      <th>2</th>\n",
       "      <td>norte</td>\n",
       "      <td>amazonas</td>\n",
       "      <td>16248.000</td>\n",
       "      <td>16248.000</td>\n",
       "      <td>15624312.730</td>\n",
       "      <td>12166634.070</td>\n",
       "      <td>1221.310</td>\n",
       "      <td>0.000</td>\n",
       "      <td>3455637.920</td>\n",
       "      <td>0.000</td>\n",
       "      <td>0.000</td>\n",
       "      <td>961.610</td>\n",
       "      <td>961.610</td>\n",
       "      <td>85512.000</td>\n",
       "      <td>5.300</td>\n",
       "      <td>536.000</td>\n",
       "      <td>3.300</td>\n",
       "      <td>2019-07-01</td>\n",
       "    </tr>\n",
       "    <tr>\n",
       "      <th>3</th>\n",
       "      <td>norte</td>\n",
       "      <td>roraima</td>\n",
       "      <td>4324.000</td>\n",
       "      <td>4324.000</td>\n",
       "      <td>3137537.400</td>\n",
       "      <td>2356231.680</td>\n",
       "      <td>0.000</td>\n",
       "      <td>0.000</td>\n",
       "      <td>781305.720</td>\n",
       "      <td>0.000</td>\n",
       "      <td>0.000</td>\n",
       "      <td>725.610</td>\n",
       "      <td>725.610</td>\n",
       "      <td>25560.000</td>\n",
       "      <td>5.900</td>\n",
       "      <td>171.000</td>\n",
       "      <td>3.950</td>\n",
       "      <td>2019-07-01</td>\n",
       "    </tr>\n",
       "    <tr>\n",
       "      <th>4</th>\n",
       "      <td>norte</td>\n",
       "      <td>para</td>\n",
       "      <td>34774.000</td>\n",
       "      <td>34774.000</td>\n",
       "      <td>28178633.440</td>\n",
       "      <td>21241354.070</td>\n",
       "      <td>248197.250</td>\n",
       "      <td>0.000</td>\n",
       "      <td>6581738.700</td>\n",
       "      <td>0.000</td>\n",
       "      <td>0.000</td>\n",
       "      <td>810.340</td>\n",
       "      <td>810.340</td>\n",
       "      <td>138135.000</td>\n",
       "      <td>4.000</td>\n",
       "      <td>832.000</td>\n",
       "      <td>2.390</td>\n",
       "      <td>2019-07-01</td>\n",
       "    </tr>\n",
       "    <tr>\n",
       "      <th>5</th>\n",
       "      <td>norte</td>\n",
       "      <td>amapa</td>\n",
       "      <td>3407.000</td>\n",
       "      <td>3407.000</td>\n",
       "      <td>2380727.690</td>\n",
       "      <td>1776869.350</td>\n",
       "      <td>0.000</td>\n",
       "      <td>0.000</td>\n",
       "      <td>603858.340</td>\n",
       "      <td>0.000</td>\n",
       "      <td>0.000</td>\n",
       "      <td>698.780</td>\n",
       "      <td>698.780</td>\n",
       "      <td>18703.000</td>\n",
       "      <td>5.500</td>\n",
       "      <td>85.000</td>\n",
       "      <td>2.490</td>\n",
       "      <td>2019-07-01</td>\n",
       "    </tr>\n",
       "    <tr>\n",
       "      <th>6</th>\n",
       "      <td>norte</td>\n",
       "      <td>tocantins</td>\n",
       "      <td>7007.000</td>\n",
       "      <td>7007.000</td>\n",
       "      <td>7095858.920</td>\n",
       "      <td>5384238.030</td>\n",
       "      <td>32706.720</td>\n",
       "      <td>0.000</td>\n",
       "      <td>1659776.340</td>\n",
       "      <td>0.000</td>\n",
       "      <td>0.000</td>\n",
       "      <td>1012.680</td>\n",
       "      <td>1012.680</td>\n",
       "      <td>37249.000</td>\n",
       "      <td>5.300</td>\n",
       "      <td>210.000</td>\n",
       "      <td>3.000</td>\n",
       "      <td>2019-07-01</td>\n",
       "    </tr>\n",
       "    <tr>\n",
       "      <th>8</th>\n",
       "      <td>nordeste</td>\n",
       "      <td>maranhao</td>\n",
       "      <td>33351.000</td>\n",
       "      <td>33766.000</td>\n",
       "      <td>28658094.550</td>\n",
       "      <td>22448136.820</td>\n",
       "      <td>50267.110</td>\n",
       "      <td>0.000</td>\n",
       "      <td>6134105.820</td>\n",
       "      <td>0.000</td>\n",
       "      <td>0.000</td>\n",
       "      <td>848.730</td>\n",
       "      <td>859.290</td>\n",
       "      <td>166594.000</td>\n",
       "      <td>5.000</td>\n",
       "      <td>879.000</td>\n",
       "      <td>2.640</td>\n",
       "      <td>2019-07-01</td>\n",
       "    </tr>\n",
       "    <tr>\n",
       "      <th>9</th>\n",
       "      <td>nordeste</td>\n",
       "      <td>piaui</td>\n",
       "      <td>16590.000</td>\n",
       "      <td>16727.000</td>\n",
       "      <td>16275611.730</td>\n",
       "      <td>12938857.110</td>\n",
       "      <td>77814.460</td>\n",
       "      <td>0.000</td>\n",
       "      <td>3217744.000</td>\n",
       "      <td>0.000</td>\n",
       "      <td>0.000</td>\n",
       "      <td>973.010</td>\n",
       "      <td>981.050</td>\n",
       "      <td>81932.000</td>\n",
       "      <td>4.900</td>\n",
       "      <td>480.000</td>\n",
       "      <td>2.890</td>\n",
       "      <td>2019-07-01</td>\n",
       "    </tr>\n",
       "    <tr>\n",
       "      <th>10</th>\n",
       "      <td>nordeste</td>\n",
       "      <td>ceara</td>\n",
       "      <td>41228.000</td>\n",
       "      <td>41677.000</td>\n",
       "      <td>51363405.460</td>\n",
       "      <td>40556438.790</td>\n",
       "      <td>37734.250</td>\n",
       "      <td>0.000</td>\n",
       "      <td>10749572.150</td>\n",
       "      <td>0.000</td>\n",
       "      <td>0.000</td>\n",
       "      <td>1232.420</td>\n",
       "      <td>1245.840</td>\n",
       "      <td>238580.000</td>\n",
       "      <td>5.800</td>\n",
       "      <td>1662.000</td>\n",
       "      <td>4.030</td>\n",
       "      <td>2019-07-01</td>\n",
       "    </tr>\n",
       "    <tr>\n",
       "      <th>11</th>\n",
       "      <td>nordeste</td>\n",
       "      <td>rio_grande_do_norte</td>\n",
       "      <td>15435.000</td>\n",
       "      <td>15627.000</td>\n",
       "      <td>22058672.470</td>\n",
       "      <td>17180673.920</td>\n",
       "      <td>61849.770</td>\n",
       "      <td>15660.060</td>\n",
       "      <td>4770026.140</td>\n",
       "      <td>15660.060</td>\n",
       "      <td>9624.580</td>\n",
       "      <td>1411.570</td>\n",
       "      <td>1429.130</td>\n",
       "      <td>92162.000</td>\n",
       "      <td>6.000</td>\n",
       "      <td>687.000</td>\n",
       "      <td>4.450</td>\n",
       "      <td>2019-07-01</td>\n",
       "    </tr>\n",
       "  </tbody>\n",
       "</table>\n",
       "</div>"
      ],
      "text/plain": [
       "      regiao               estado  internacoes  aih_aprvd  valor_total  \\\n",
       "1      norte             rondonia     9603.000   9603.000  9404751.410   \n",
       "2      norte             amazonas    16248.000  16248.000 15624312.730   \n",
       "3      norte              roraima     4324.000   4324.000  3137537.400   \n",
       "4      norte                 para    34774.000  34774.000 28178633.440   \n",
       "5      norte                amapa     3407.000   3407.000  2380727.690   \n",
       "6      norte            tocantins     7007.000   7007.000  7095858.920   \n",
       "8   nordeste             maranhao    33351.000  33766.000 28658094.550   \n",
       "9   nordeste                piaui    16590.000  16727.000 16275611.730   \n",
       "10  nordeste                ceara    41228.000  41677.000 51363405.460   \n",
       "11  nordeste  rio_grande_do_norte    15435.000  15627.000 22058672.470   \n",
       "\n",
       "            vsh  vsh_comp_fed  vsh_comp_gest          vsp  vsp_comp_fed  \\\n",
       "1   7666945.900         0.000          0.000  1737805.510         0.000   \n",
       "2  12166634.070      1221.310          0.000  3455637.920         0.000   \n",
       "3   2356231.680         0.000          0.000   781305.720         0.000   \n",
       "4  21241354.070    248197.250          0.000  6581738.700         0.000   \n",
       "5   1776869.350         0.000          0.000   603858.340         0.000   \n",
       "6   5384238.030     32706.720          0.000  1659776.340         0.000   \n",
       "8  22448136.820     50267.110          0.000  6134105.820         0.000   \n",
       "9  12938857.110     77814.460          0.000  3217744.000         0.000   \n",
       "10 40556438.790     37734.250          0.000 10749572.150         0.000   \n",
       "11 17180673.920     61849.770      15660.060  4770026.140     15660.060   \n",
       "\n",
       "    vsp_comp_gest  valor_medio_aih  valor_medio_intern  dias_permanencia  \\\n",
       "1           0.000          979.360             979.360         53043.000   \n",
       "2           0.000          961.610             961.610         85512.000   \n",
       "3           0.000          725.610             725.610         25560.000   \n",
       "4           0.000          810.340             810.340        138135.000   \n",
       "5           0.000          698.780             698.780         18703.000   \n",
       "6           0.000         1012.680            1012.680         37249.000   \n",
       "8           0.000          848.730             859.290        166594.000   \n",
       "9           0.000          973.010             981.050         81932.000   \n",
       "10          0.000         1232.420            1245.840        238580.000   \n",
       "11       9624.580         1411.570            1429.130         92162.000   \n",
       "\n",
       "    media_permanencia   obitos  taxa_mortalidade month_year  \n",
       "1               5.500  315.000             3.280 2019-07-01  \n",
       "2               5.300  536.000             3.300 2019-07-01  \n",
       "3               5.900  171.000             3.950 2019-07-01  \n",
       "4               4.000  832.000             2.390 2019-07-01  \n",
       "5               5.500   85.000             2.490 2019-07-01  \n",
       "6               5.300  210.000             3.000 2019-07-01  \n",
       "8               5.000  879.000             2.640 2019-07-01  \n",
       "9               4.900  480.000             2.890 2019-07-01  \n",
       "10              5.800 1662.000             4.030 2019-07-01  \n",
       "11              6.000  687.000             4.450 2019-07-01  "
      ]
     },
     "execution_count": 19,
     "metadata": {},
     "output_type": "execute_result"
    }
   ],
   "source": [
    "# vamos observar como ficaram nossos dados depois da limpeza\n",
    "df2.head(10)"
   ]
  },
  {
   "cell_type": "markdown",
   "id": "dc5ce5a0",
   "metadata": {
    "hidden": true
   },
   "source": [
    "## 2.4 Features"
   ]
  },
  {
   "cell_type": "markdown",
   "id": "a8b7244b",
   "metadata": {
    "hidden": true
   },
   "source": [
    "Antes de começarmos a análise exploratória dos dados, vamos criar novas variáveis para podermos acrescentar elas na dimensão das nossas análises."
   ]
  },
  {
   "cell_type": "code",
   "execution_count": 20,
   "id": "d8436196",
   "metadata": {
    "hidden": true
   },
   "outputs": [
    {
     "data": {
      "text/plain": [
       "Index(['regiao', 'estado', 'internacoes', 'aih_aprvd', 'valor_total', 'vsh',\n",
       "       'vsh_comp_fed', 'vsh_comp_gest', 'vsp', 'vsp_comp_fed', 'vsp_comp_gest',\n",
       "       'valor_medio_aih', 'valor_medio_intern', 'dias_permanencia',\n",
       "       'media_permanencia', 'obitos', 'taxa_mortalidade', 'month_year'],\n",
       "      dtype='object')"
      ]
     },
     "execution_count": 20,
     "metadata": {},
     "output_type": "execute_result"
    }
   ],
   "source": [
    "df2.columns"
   ]
  },
  {
   "cell_type": "code",
   "execution_count": 21,
   "id": "febd9da9",
   "metadata": {
    "hidden": true
   },
   "outputs": [],
   "source": [
    "df2['year'] = df2['month_year'].dt.year\n",
    "df2['month'] = df2['month_year'].dt.month\n",
    "df2['month_year'] = df2['month_year'].dt.strftime('%Y-%m')"
   ]
  },
  {
   "cell_type": "markdown",
   "id": "af88e987",
   "metadata": {
    "heading_collapsed": true
   },
   "source": [
    "# 3. EDA"
   ]
  },
  {
   "cell_type": "markdown",
   "id": "9ce18a32",
   "metadata": {
    "hidden": true
   },
   "source": [
    "Antes de começarmos a análise exploratória dos dados, temos que saber precisamente o que cada variável significa para termos o contexto dos valores apresentados. Abaixo a descrição das variáveis:\n",
    "* regiao -> região onde a unidade hospitalar está estabelecida.\n",
    "* estado -> estado onde a unidade hospitalar está estabelecida.\n",
    "* internacoes -> quantidade de AIH aprovadas no período não considerando as de prorrogação; trata-se de um valor aproximado pois as transferências e reinternações também foram computadas.\n",
    "* aih_aprovd -> AIH aprovadas no período, tanto de novas internações quanto de prorrogação.\n",
    "* valor_total -> valor referente às AIH aprovadas no período, o que não necessariamente é o valor repassado ao estabelecimento; deve ser considerado como o valor aprovado da produção.\n",
    "* vsh -> valor dos serviços hospitalares referente às AIH aprovadas no período; aplicam-se as mesmas observações referentes ao valor total.\n",
    "* vsh_comp_fed -> complemento federal do valor dos serviços hospitalares; aplicam-se as mesmas observações referentes ao valor total.\n",
    "* vsh_comp_gest -> complemento do gestor estadual ou municipal do valor dos serviços hospitalares; aplicam-se as mesmas observações referentes ao valor total.\n",
    "* vsp -> valor dos serivços prestados referente às AIH aprovadas no período; aplicam-se as mesmas observações referentes ao valor total. \n",
    "* vsp_comp_fed -> complemento federal do valor dos serviços profissionais; aplicam-se as mesmas observações referentes ao valor total.\n",
    "* vsp_comp_gest -> complemento do gestor estadual ou municipal do valor dos serviços profissionais; aplicam-se as mesmas observações referentes ao valor total.\n",
    "* valor_medio_aih -> valor médio das AIH aprovadas no período.\n",
    "* valor_medio_intern -> valor médio das AIH aprovadas computadas como internações no período.\n",
    "* dias_permanencia -> total de dias de internação referente às AIH aprovadas no período, são contados os dias entre a baixa e a alta; esse valor não pode ser utilizado para calcular a ocupação da unidade hospitalar, pois inclui períodos fora do mês e períodos em que o paciente utilizou UTI.\n",
    "* media_permanencia -> média de permanência das internações referentes às AIH aprovadas, computadas como internações, no período.\n",
    "* óbitos -> quantidade de internações que tiveram alta por óbito nas AIH aprovadas no período;\n",
    "* taxa de mortalidade -> razão entre a quantidade de óbitos e o número de AIH aprovadas multiplicada por 100;\n",
    "\n",
    "As demais variáveis são referentes ao período observado."
   ]
  },
  {
   "cell_type": "code",
   "execution_count": 22,
   "id": "b7476181",
   "metadata": {
    "hidden": true
   },
   "outputs": [],
   "source": [
    "# criando um novo df baseado no df2 limpo\n",
    "df3 = df2.copy()"
   ]
  },
  {
   "cell_type": "markdown",
   "id": "9d7b598f",
   "metadata": {
    "hidden": true
   },
   "source": [
    "## 3.1 Análise Univariada"
   ]
  },
  {
   "cell_type": "markdown",
   "id": "d5e26425",
   "metadata": {
    "hidden": true
   },
   "source": [
    "Vamos observar as distribuições das variáveis numéricas. A princípio, focaremos a análise em (i) internações, (ii) valor total, (iii) óbitos e (iv) valor médio de AIH. "
   ]
  },
  {
   "cell_type": "code",
   "execution_count": 23,
   "id": "3550631a",
   "metadata": {
    "hidden": true,
    "hide_input": true
   },
   "outputs": [
    {
     "data": {
      "image/png": "[encoded data removed]",
      "text/plain": [
       "<Figure size 1080x864 with 20 Axes>"
      ]
     },
     "metadata": {
      "needs_background": "light"
     },
     "output_type": "display_data"
    }
   ],
   "source": [
    "df3.hist(bins = 30, figsize = (15,12));"
   ]
  },
  {
   "cell_type": "markdown",
   "id": "fdd5d404",
   "metadata": {
    "hidden": true
   },
   "source": [
    "A princípio podemos perceber que a distribuição das internações e aih aprovadas são bem similares, assim como do valor total e do valor do serviço hospitalar (vsh). \n",
    "\n",
    "Dadas as descrições da variáveis isso é bastante razoável, já que a diferença entre internações e aih aprovadas são a não contabilização de prorrogação nas internações. Além disso, é razoável pensar que a maior parte dos gastos com internações seja por parte do hospital e não de pessoal.\n",
    "\n",
    "Ambas as distribuições de valor do serviço hospitalar (vsh) complementar federal e gestor são concentradas à esquerda, porém a de gestor parece ser mais concentrada, o que pode dar a entender que o estado e município pagariam valores menores em comparação à federação. \n",
    "\n",
    "Entretanto, quando observamos o valor do serviço profissional (vsp) complementar, a distribuição correspondente ao estado e município possui alguns valores maiores do que o vsp federal.\n",
    "\n",
    "Óbitos e taxa de mortalidade possuem uma distribuição similar, o que era esperado, já que a taxa de mortalidade leva em consideração o número de óbitos."
   ]
  },
  {
   "cell_type": "markdown",
   "id": "0fa48013",
   "metadata": {
    "hidden": true
   },
   "source": [
    "## 3.2 Análise Bivariada"
   ]
  },
  {
   "cell_type": "markdown",
   "id": "b269e58e",
   "metadata": {
    "hidden": true
   },
   "source": [
    "Nessa análise, vamos comparar os valores das nossas variáveis *target* levando em consideração a análise simultânea de outras dimensões. Para isso, vamos criar alguas hipóteses sobre essas variáveis e, utilizando os dados, vamos explorar se elas são verdadeiras ou não.  \n",
    "\n",
    "**Hipóteses a serem validadas**\n",
    "\n",
    "* Hipóteses de Internações\n",
    "\n",
    " * 1- Existe um maior número de internações na região sudeste; \n",
    "\n",
    " * 2- As internações ocorrem mais durante o inverno (junho-agosto);\n",
    " \n",
    " * 3- O número total de internações está reduzindo ao longo dos anos;\n",
    "\n",
    "\n",
    "* Hipóteses de Valor total e médio da AIH\n",
    "\n",
    " * 1- A região com maior valor total das internações é a sudeste;\n",
    "\n",
    " * 2- Em média, a maior parte do valor total da AIH é relativo aos serviços hospitalares;\n",
    "\n",
    " * 3- Não existe sazonalidade no valor médio da AIH;\n",
    "\n",
    " * 4- A região com o maior valor médio de internação é a sudeste;\n",
    " \n",
    " * 5- A região com o maior valor médio de permanência é a sudeste;\n",
    "\n",
    "\n",
    "* Óbitos e taxa de mortalidade\n",
    "\n",
    " * 1- A região com maior número de óbitos é a sudeste;\n",
    "\n",
    " * 2- Não existe sazonalidade na taxa de mortalidade;\n",
    "\n",
    " * 3- A quantidade total de óbitos e a taxa de mortalidade estão reduzindo ao longo dos anos;\n",
    " \n",
    " * 4- Os óbitos e a taxa de mortalidade médios anuais estão diminuindo;\n",
    " \n"
   ]
  },
  {
   "cell_type": "markdown",
   "id": "bfc445f9",
   "metadata": {
    "hidden": true
   },
   "source": [
    "### 3.2.1 Hipóteses de Internações (HI)"
   ]
  },
  {
   "cell_type": "markdown",
   "id": "6d6e4c97",
   "metadata": {
    "hidden": true
   },
   "source": [
    "1- Existe um maior número de internações na região sudeste; \n",
    "\n",
    "**VERDADEIRA**. A região sudeste é a que possui maior número de internações, o que faz sentido, dado que é a região com maior população no país."
   ]
  },
  {
   "cell_type": "code",
   "execution_count": 24,
   "id": "715bbf36",
   "metadata": {
    "hidden": true
   },
   "outputs": [
    {
     "data": {
      "image/png": "[encoded data removed]",
      "text/plain": [
       "<Figure size 432x288 with 1 Axes>"
      ]
     },
     "metadata": {
      "needs_background": "light"
     },
     "output_type": "display_data"
    }
   ],
   "source": [
    "hi = df3[['regiao', 'internacoes']].groupby('regiao').sum().reset_index()\n",
    "sns.barplot(x='regiao', y='internacoes', data= hi).set_title('Nº de Internações por região');"
   ]
  },
  {
   "cell_type": "markdown",
   "id": "0c458128",
   "metadata": {
    "hidden": true
   },
   "source": [
    "2- As internações ocorrem mais durante o inverno (junho-agosto);\n",
    "\n",
    "Apesar de pelo gráfico parecer falsa, temos que lembrar que o conjuntos de dados não está completo em todos os meses. Quando observamos a contagem dos meses, os que mais aparecem são os que possuem um número maior de internações, logo não conseguimos extrair nenhuma informação relevante nesse momento."
   ]
  },
  {
   "cell_type": "code",
   "execution_count": 25,
   "id": "8ce04aaf",
   "metadata": {
    "hidden": true
   },
   "outputs": [
    {
     "data": {
      "image/png": "[encoded data removed]",
      "text/plain": [
       "<Figure size 432x288 with 1 Axes>"
      ]
     },
     "metadata": {
      "needs_background": "light"
     },
     "output_type": "display_data"
    }
   ],
   "source": [
    "hi = df3[['month', 'internacoes']].groupby('month').sum().reset_index()\n",
    "sns.barplot(x='month', y='internacoes', data = hi);"
   ]
  },
  {
   "cell_type": "code",
   "execution_count": 26,
   "id": "fb643fb3",
   "metadata": {
    "hidden": true
   },
   "outputs": [
    {
     "data": {
      "text/plain": [
       "12    54\n",
       "4     54\n",
       "7     53\n",
       "6     27\n",
       "3     27\n",
       "5     27\n",
       "8     27\n",
       "9     27\n",
       "11    27\n",
       "1     27\n",
       "2     27\n",
       "Name: month, dtype: int64"
      ]
     },
     "execution_count": 26,
     "metadata": {},
     "output_type": "execute_result"
    }
   ],
   "source": [
    "# observando as divergências de ocorrências entre os meses abordados\n",
    "df3['month'].value_counts()"
   ]
  },
  {
   "cell_type": "markdown",
   "id": "1e2ea12f",
   "metadata": {
    "hidden": true
   },
   "source": [
    "3- O número total de internações está reduzindo ao longo dos anos\n",
    "\n",
    "Da mesma maneira que nossa última hipótese, a falta de dados históricos está prejudicando nossa análise. Portanto, não vamos concluir nada a princípio."
   ]
  },
  {
   "cell_type": "code",
   "execution_count": 27,
   "id": "e3d4ca46",
   "metadata": {
    "hidden": true
   },
   "outputs": [
    {
     "data": {
      "image/png": "[encoded data removed]",
      "text/plain": [
       "<Figure size 432x288 with 1 Axes>"
      ]
     },
     "metadata": {
      "needs_background": "light"
     },
     "output_type": "display_data"
    }
   ],
   "source": [
    "hi = df3[['year', 'internacoes']].groupby('year').sum().reset_index()\n",
    "sns.barplot(x='year', y='internacoes', data = hi);"
   ]
  },
  {
   "cell_type": "code",
   "execution_count": 28,
   "id": "dbcc5818",
   "metadata": {
    "hidden": true
   },
   "outputs": [
    {
     "data": {
      "text/plain": [
       "2018    216\n",
       "2019    134\n",
       "2017     27\n",
       "Name: year, dtype: int64"
      ]
     },
     "execution_count": 28,
     "metadata": {},
     "output_type": "execute_result"
    }
   ],
   "source": [
    "# observando as divergências de ocorrências entre os anos abordados\n",
    "df3['year'].value_counts()"
   ]
  },
  {
   "cell_type": "markdown",
   "id": "6e31c025",
   "metadata": {
    "hidden": true
   },
   "source": [
    "### 3.2.2 Hipóteses de Valor Total e Médio (HVTM)"
   ]
  },
  {
   "cell_type": "markdown",
   "id": "17d7f75f",
   "metadata": {
    "hidden": true
   },
   "source": [
    "1- A região com maior valor total das internações é a sudeste.\n",
    "\n",
    "**VERDADEIRO**. A região com o maior valor total de internações é a sudeste, o que faz sentido dado que é também a região com o maior número de internações."
   ]
  },
  {
   "cell_type": "code",
   "execution_count": 29,
   "id": "78f92862",
   "metadata": {
    "hidden": true
   },
   "outputs": [
    {
     "data": {
      "text/plain": [
       "<AxesSubplot:xlabel='regiao', ylabel='valor_total'>"
      ]
     },
     "execution_count": 29,
     "metadata": {},
     "output_type": "execute_result"
    },
    {
     "data": {
      "image/png": "[encoded data removed]",
      "text/plain": [
       "<Figure size 432x288 with 1 Axes>"
      ]
     },
     "metadata": {
      "needs_background": "light"
     },
     "output_type": "display_data"
    }
   ],
   "source": [
    "hvtm = df3[['regiao', 'valor_total']].groupby('regiao').sum().reset_index()\n",
    "sns.barplot(x='regiao', y='valor_total', data=hvtm)"
   ]
  },
  {
   "cell_type": "markdown",
   "id": "a98da360",
   "metadata": {
    "hidden": true
   },
   "source": [
    "2- Em média, a maior parte do valor total da AIH é relativo aos serviços hospitalares\n",
    "\n",
    "**VERDADEIRO**. Os valores de serviços hospitalares correspondem a 79.5% do valor total de internação, enquanto o valor dos serviços profissionais é 19.8%."
   ]
  },
  {
   "cell_type": "code",
   "execution_count": 30,
   "id": "097b5f49",
   "metadata": {
    "hidden": true
   },
   "outputs": [
    {
     "name": "stdout",
     "output_type": "stream",
     "text": [
      "O valor hospitalar corresponde a 79.5% do valor total enquanto o valor dos serviços corresponde a 19.8%.\n"
     ]
    }
   ],
   "source": [
    "vsh_prop = df3['vsh'].sum()/df3['valor_total'].sum() *100\n",
    "vsp_prop = df3['vsp'].sum()/df3['valor_total'].sum() *100\n",
    "\n",
    "print(\"O valor hospitalar corresponde a {:.3}% do valor total enquanto o valor dos serviços corresponde a {:.3}%.\".format(vsh_prop,vsp_prop))"
   ]
  },
  {
   "cell_type": "markdown",
   "id": "2723d6cc",
   "metadata": {
    "hidden": true
   },
   "source": [
    "3- Não existe sazonalidade no valor médio da AIH\n",
    "\n",
    "**VERDADEIRO**. Ao longo dos meses registrados, não há uma variação grande do valor médio de AIH."
   ]
  },
  {
   "cell_type": "code",
   "execution_count": 31,
   "id": "07fc350d",
   "metadata": {
    "hidden": true
   },
   "outputs": [
    {
     "data": {
      "text/plain": [
       "<AxesSubplot:xlabel='month', ylabel='valor_medio_aih'>"
      ]
     },
     "execution_count": 31,
     "metadata": {},
     "output_type": "execute_result"
    },
    {
     "data": {
      "image/png": "[encoded data removed]",
      "text/plain": [
       "<Figure size 432x288 with 1 Axes>"
      ]
     },
     "metadata": {
      "needs_background": "light"
     },
     "output_type": "display_data"
    }
   ],
   "source": [
    "hvtm = df3[['month', 'valor_medio_aih']].groupby('month').mean().reset_index()\n",
    "sns.barplot(x='month', y='valor_medio_aih', data = hvtm)"
   ]
  },
  {
   "cell_type": "markdown",
   "id": "cfbbd146",
   "metadata": {
    "hidden": true
   },
   "source": [
    "4- A região com o maior valor médio de internação é a sudeste.\n",
    "\n",
    "**FALSO**. A região com o maior valor médio de internações é a sul."
   ]
  },
  {
   "cell_type": "code",
   "execution_count": 32,
   "id": "e2a0920d",
   "metadata": {
    "hidden": true
   },
   "outputs": [
    {
     "data": {
      "text/plain": [
       "<AxesSubplot:xlabel='regiao', ylabel='valor_medio_aih'>"
      ]
     },
     "execution_count": 32,
     "metadata": {},
     "output_type": "execute_result"
    },
    {
     "data": {
      "image/png": "[encoded data removed]",
      "text/plain": [
       "<Figure size 432x288 with 1 Axes>"
      ]
     },
     "metadata": {
      "needs_background": "light"
     },
     "output_type": "display_data"
    }
   ],
   "source": [
    "hvtm = df3[['regiao', 'valor_medio_aih']].groupby('regiao').mean().reset_index()\n",
    "sns.barplot(x='regiao', y='valor_medio_aih', data=hvtm)"
   ]
  },
  {
   "cell_type": "markdown",
   "id": "e4302024",
   "metadata": {
    "hidden": true
   },
   "source": [
    "5- A região com o maior valor médio de permanência é a sudeste.\n",
    "\n",
    "**FALSO**. A região com maior valor médio por dias de permanência é a região sul."
   ]
  },
  {
   "cell_type": "code",
   "execution_count": 33,
   "id": "affad5a6",
   "metadata": {
    "hidden": true
   },
   "outputs": [
    {
     "data": {
      "text/plain": [
       "<AxesSubplot:xlabel='regiao', ylabel='media_valor_permanencia'>"
      ]
     },
     "execution_count": 33,
     "metadata": {},
     "output_type": "execute_result"
    },
    {
     "data": {
      "image/png": "[encoded data removed]",
      "text/plain": [
       "<Figure size 432x288 with 1 Axes>"
      ]
     },
     "metadata": {
      "needs_background": "light"
     },
     "output_type": "display_data"
    }
   ],
   "source": [
    "hvtm = df3[['regiao', 'valor_medio_aih', 'media_permanencia']].groupby('regiao').mean().reset_index()\n",
    "hvtm['media_valor_permanencia'] = hvtm['valor_medio_aih'] / hvtm['media_permanencia']\n",
    "sns.barplot(x='regiao', y='media_valor_permanencia', data = hvtm)"
   ]
  },
  {
   "cell_type": "markdown",
   "id": "3552846b",
   "metadata": {
    "hidden": true
   },
   "source": [
    "### 3.2.3. Hipóteses de Óbitos e Taxa de Mortalidade "
   ]
  },
  {
   "cell_type": "markdown",
   "id": "4d62724e",
   "metadata": {
    "hidden": true
   },
   "source": [
    "1- A região com maior número de óbitos é a sudeste.\n",
    "\n",
    "**VERDADEIRO**. A região sudeste possui o maior número de óbitos nas nossas observações."
   ]
  },
  {
   "cell_type": "code",
   "execution_count": 34,
   "id": "51f4248e",
   "metadata": {
    "hidden": true
   },
   "outputs": [
    {
     "data": {
      "text/plain": [
       "<AxesSubplot:xlabel='regiao', ylabel='obitos'>"
      ]
     },
     "execution_count": 34,
     "metadata": {},
     "output_type": "execute_result"
    },
    {
     "data": {
      "image/png": "[encoded data removed]",
      "text/plain": [
       "<Figure size 432x288 with 1 Axes>"
      ]
     },
     "metadata": {
      "needs_background": "light"
     },
     "output_type": "display_data"
    }
   ],
   "source": [
    "hotm = df3[['regiao', 'obitos']].groupby('regiao').sum().reset_index()\n",
    "sns.barplot(data=hotm, x='regiao', y='obitos')"
   ]
  },
  {
   "cell_type": "markdown",
   "id": "baa30ec0",
   "metadata": {
    "hidden": true
   },
   "source": [
    "2- Não existe sazonalidade na taxa de mortalidade.\n",
    "\n",
    "Parece haver uma sazonalidade, mas com os dados incompletos não conseguimos ter certeza dos movimentos."
   ]
  },
  {
   "cell_type": "code",
   "execution_count": 35,
   "id": "cae09a1c",
   "metadata": {
    "hidden": true
   },
   "outputs": [
    {
     "data": {
      "text/plain": [
       "<AxesSubplot:xlabel='month_year', ylabel='obitos'>"
      ]
     },
     "execution_count": 35,
     "metadata": {},
     "output_type": "execute_result"
    },
    {
     "data": {
      "image/png": "[encoded data removed]",
      "text/plain": [
       "<Figure size 432x288 with 1 Axes>"
      ]
     },
     "metadata": {
      "needs_background": "light"
     },
     "output_type": "display_data"
    }
   ],
   "source": [
    "hotm = df3[['month_year', 'obitos']].groupby('month_year').sum().reset_index()\n",
    "sns.barplot(x='month_year', y='obitos', data = hotm)"
   ]
  },
  {
   "cell_type": "code",
   "execution_count": 36,
   "id": "7afa31b5",
   "metadata": {
    "hidden": true
   },
   "outputs": [
    {
     "data": {
      "text/plain": [
       "<AxesSubplot:xlabel='month', ylabel='obitos'>"
      ]
     },
     "execution_count": 36,
     "metadata": {},
     "output_type": "execute_result"
    },
    {
     "data": {
      "image/png": "[encoded data removed]",
      "text/plain": [
       "<Figure size 432x288 with 1 Axes>"
      ]
     },
     "metadata": {
      "needs_background": "light"
     },
     "output_type": "display_data"
    }
   ],
   "source": [
    "hotm = df3[['month', 'obitos']].groupby('month').sum().reset_index()\n",
    "sns.barplot(x='month', y='obitos', data = hotm)"
   ]
  },
  {
   "cell_type": "markdown",
   "id": "93c00649",
   "metadata": {
    "hidden": true
   },
   "source": [
    "3- A quantidade total de óbitos e a taxa de mortalidade estão reduzindo ao longo dos anos;\n",
    "\n",
    "A falta de amostras iguais para os anos não nos permite concluir essa hipótese."
   ]
  },
  {
   "cell_type": "code",
   "execution_count": 37,
   "id": "4b0ceb43",
   "metadata": {
    "hidden": true
   },
   "outputs": [
    {
     "data": {
      "text/plain": [
       "<AxesSubplot:xlabel='year', ylabel='obitos'>"
      ]
     },
     "execution_count": 37,
     "metadata": {},
     "output_type": "execute_result"
    },
    {
     "data": {
      "image/png": "[encoded data removed]",
      "text/plain": [
       "<Figure size 432x288 with 1 Axes>"
      ]
     },
     "metadata": {
      "needs_background": "light"
     },
     "output_type": "display_data"
    }
   ],
   "source": [
    "hotm = df3[['year', 'obitos']].groupby('year').sum().reset_index()\n",
    "sns.barplot(x='year', y='obitos', data = hotm)"
   ]
  },
  {
   "cell_type": "code",
   "execution_count": 38,
   "id": "6fcba247",
   "metadata": {
    "hidden": true
   },
   "outputs": [
    {
     "data": {
      "text/plain": [
       "<AxesSubplot:xlabel='year', ylabel='taxa_mortalidade'>"
      ]
     },
     "execution_count": 38,
     "metadata": {},
     "output_type": "execute_result"
    },
    {
     "data": {
      "image/png": "[encoded data removed]",
      "text/plain": [
       "<Figure size 432x288 with 1 Axes>"
      ]
     },
     "metadata": {
      "needs_background": "light"
     },
     "output_type": "display_data"
    }
   ],
   "source": [
    "hotm = df3[['year', 'taxa_mortalidade']].groupby('year').sum().reset_index()\n",
    "sns.barplot(x='year', y='taxa_mortalidade', data = hotm)"
   ]
  },
  {
   "cell_type": "markdown",
   "id": "fb872c6e",
   "metadata": {
    "hidden": true
   },
   "source": [
    "4- Os óbitos e a taxa de mortalidade médios anuais estão diminuindo;\n",
    "\n",
    "**FALSO**. A média de óbitos e da taxa de mortalidade anuais estão aumentando."
   ]
  },
  {
   "cell_type": "code",
   "execution_count": 39,
   "id": "c0ad1211",
   "metadata": {
    "hidden": true
   },
   "outputs": [
    {
     "data": {
      "text/plain": [
       "<AxesSubplot:xlabel='year', ylabel='obitos'>"
      ]
     },
     "execution_count": 39,
     "metadata": {},
     "output_type": "execute_result"
    },
    {
     "data": {
      "image/png": "[encoded data removed]",
      "text/plain": [
       "<Figure size 432x288 with 1 Axes>"
      ]
     },
     "metadata": {
      "needs_background": "light"
     },
     "output_type": "display_data"
    }
   ],
   "source": [
    "hotm = df3[['year', 'obitos']].groupby('year').mean().reset_index()\n",
    "sns.barplot(x='year', y='obitos', data = hotm)"
   ]
  },
  {
   "cell_type": "code",
   "execution_count": 40,
   "id": "aa297cb0",
   "metadata": {
    "hidden": true
   },
   "outputs": [
    {
     "data": {
      "text/plain": [
       "<AxesSubplot:xlabel='year', ylabel='taxa_mortalidade'>"
      ]
     },
     "execution_count": 40,
     "metadata": {},
     "output_type": "execute_result"
    },
    {
     "data": {
      "image/png": "[encoded data removed]",
      "text/plain": [
       "<Figure size 432x288 with 1 Axes>"
      ]
     },
     "metadata": {
      "needs_background": "light"
     },
     "output_type": "display_data"
    }
   ],
   "source": [
    "hotm = df3[['year', 'taxa_mortalidade']].groupby('year').mean().reset_index()\n",
    "sns.barplot(x='year', y='taxa_mortalidade', data = hotm)"
   ]
  },
  {
   "cell_type": "markdown",
   "id": "565e2cb3",
   "metadata": {
    "hidden": true
   },
   "source": [
    "## 3.3 Análise Multivariada"
   ]
  },
  {
   "cell_type": "markdown",
   "id": "bbdb873e",
   "metadata": {
    "hidden": true
   },
   "source": [
    "Agora, vamos avaliar a correlação entre todas as variáveis de maneira simultânea."
   ]
  },
  {
   "cell_type": "code",
   "execution_count": 41,
   "id": "66944627",
   "metadata": {
    "hidden": true
   },
   "outputs": [
    {
     "data": {
      "image/png": "[encoded data removed]",
      "text/plain": [
       "<Figure size 842.4x595.44 with 2 Axes>"
      ]
     },
     "metadata": {},
     "output_type": "display_data"
    }
   ],
   "source": [
    "sns.set(rc={'figure.figsize':(11.7,8.27)})\n",
    "sns.heatmap(df3.select_dtypes(include='float64').corr(method='pearson'), annot = True);"
   ]
  },
  {
   "cell_type": "markdown",
   "id": "c14399e4",
   "metadata": {
    "hidden": true
   },
   "source": [
    "Vamos analisar as variáveis de interesse:\n",
    "* Internações: Como já vimos nas distribuições, existe uma correlação forte entre o nº de internações e aih aprovadas, o que faz sentido. Além disso, as internações também possui uma alta correlação com o valor total, já que quanto maior o número de internações, maior será o dispêndio nisso.\n",
    "* Óbitos: O número de óbitos é obviamente proporcional ao número de internações, já que com o maior número de internações consequentemente serão computadas mais mortes. E, como é proporcional ao número de internações, acaba sendo altamente correlacionado com as outras variáveis relacionadas a ela. \n",
    "* Valor total: o custo total com internações é obviamente altamente correlacionado com o número total de internações.\n",
    "\n",
    "Todas as variáveis de quantidade de internações e custo totais dessas internações (exceto pelo vsp complementar e vsh complementar do gestor) são altamente correlacionadas entre si e com as variáveis de óbitos totais e dias totais de permanência. \n",
    "\n",
    "Nenhuma dessas correlações é realmente uma surpresa, apenas confirma o que seria lógico."
   ]
  },
  {
   "cell_type": "markdown",
   "id": "4e68870e",
   "metadata": {
    "heading_collapsed": true
   },
   "source": [
    "# 4. Data Preparation"
   ]
  },
  {
   "cell_type": "markdown",
   "id": "f7b5ff40",
   "metadata": {
    "heading_collapsed": true,
    "hidden": true
   },
   "source": [
    "## 4.1. Estimando datas faltantes"
   ]
  },
  {
   "cell_type": "markdown",
   "id": "89206a60",
   "metadata": {
    "hidden": true
   },
   "source": [
    "A falta de dados históricos completos foi um empecilho considerável na nossa análise exploratória, portanto nosso próximo passo será tratar esses dados. As observações na nossa base de dados começam em dezembro de 2017 e vão até julho de 2019, nesse período temos seis meses faltando: 2018-01, 2018-02, 2018-06, 2018-10, 2019-03, 2019-05.  \n",
    "\n",
    "Podemos estimar os valores de internações e valor total nos meses faltantes com algumas metodologias, entre elas:\n",
    "* Mediana da variável, bom porque mantém a distribuição;\n",
    "* Valor imediatamente anterior da variável, bom porque leva em consideração a tendência histórica;\n",
    "* Média entre os valores anteriores e seguintes, bom porque mantém a tendência e é uma estimativa linear entre os valores anteriores e próximos.\n",
    "\n",
    "No nosso caso, vamos utilizar a média entre os valores anteriores e próximos para estimar as variáveis. \n",
    "\n"
   ]
  },
  {
   "cell_type": "code",
   "execution_count": 42,
   "id": "45a5024e",
   "metadata": {
    "hidden": true
   },
   "outputs": [],
   "source": [
    "# criando as datas de referência futura\n",
    "date = pd.date_range(df3['month_year'].min(), df3['month_year'].max(), freq='M' ).to_list()\n",
    "df4 = pd.DataFrame()\n",
    "df4['month_year'] = date\n",
    "df4['month_year'] = df4['month_year'].apply(lambda x: datetime.strftime(x, '%Y-%m'))\n",
    "\n",
    "# internações mensais\n",
    "aux1 = df3[['month_year', 'internacoes']].groupby('month_year').sum().reset_index()\n",
    "\n",
    "df4.loc[len(df4)] = aux1['month_year'].iloc[-1]\n",
    "df4 = pd.merge(aux1, df4, how = 'right', on = 'month_year')\n",
    "\n",
    "# valor_total por month_year\n",
    "aux1 = df3[['month_year', 'valor_total']].groupby('month_year').sum().reset_index()\n",
    "df4 = pd.merge(aux1, df4, how = 'right', on = 'month_year')"
   ]
  },
  {
   "cell_type": "code",
   "execution_count": 43,
   "id": "2e3359a9",
   "metadata": {
    "hidden": true
   },
   "outputs": [],
   "source": [
    "# criando coluna auxiliar para preencher dados nulos\n",
    "df4['internacoes_ffill'] = df4['internacoes'].fillna(method = 'ffill')\n",
    "df4['internacoes_bfill'] = df4['internacoes'].fillna(method = 'bfill')\n",
    "\n",
    "df4['valor_ffill'] = df4['valor_total'].fillna(method = 'ffill')\n",
    "df4['valor_bfill'] = df4['valor_total'].fillna(method = 'bfill')\n",
    "\n",
    "# preenchendo valores\n",
    "df4['valor_total'] = (df4['valor_ffill'] + df4['valor_bfill'])/2\n",
    "df4['internacoes'] = (df4['internacoes_ffill'] + df4['internacoes_bfill'])/2"
   ]
  },
  {
   "cell_type": "code",
   "execution_count": 44,
   "id": "daa8838e",
   "metadata": {
    "hidden": true,
    "scrolled": true
   },
   "outputs": [
    {
     "data": {
      "text/html": [
       "<div>\n",
       "<style scoped>\n",
       "    .dataframe tbody tr th:only-of-type {\n",
       "        vertical-align: middle;\n",
       "    }\n",
       "\n",
       "    .dataframe tbody tr th {\n",
       "        vertical-align: top;\n",
       "    }\n",
       "\n",
       "    .dataframe thead th {\n",
       "        text-align: right;\n",
       "    }\n",
       "</style>\n",
       "<table border=\"1\" class=\"dataframe\">\n",
       "  <thead>\n",
       "    <tr style=\"text-align: right;\">\n",
       "      <th></th>\n",
       "      <th>month_year</th>\n",
       "      <th>valor_total</th>\n",
       "      <th>internacoes</th>\n",
       "      <th>month</th>\n",
       "      <th>year</th>\n",
       "    </tr>\n",
       "  </thead>\n",
       "  <tbody>\n",
       "    <tr>\n",
       "      <th>0</th>\n",
       "      <td>2017-12</td>\n",
       "      <td>1201828188.240</td>\n",
       "      <td>939601.000</td>\n",
       "      <td>12</td>\n",
       "      <td>2017</td>\n",
       "    </tr>\n",
       "    <tr>\n",
       "      <th>1</th>\n",
       "      <td>2018-01</td>\n",
       "      <td>1225699479.905</td>\n",
       "      <td>966911.500</td>\n",
       "      <td>1</td>\n",
       "      <td>2018</td>\n",
       "    </tr>\n",
       "    <tr>\n",
       "      <th>2</th>\n",
       "      <td>2018-02</td>\n",
       "      <td>1225699479.905</td>\n",
       "      <td>966911.500</td>\n",
       "      <td>2</td>\n",
       "      <td>2018</td>\n",
       "    </tr>\n",
       "    <tr>\n",
       "      <th>3</th>\n",
       "      <td>2018-03</td>\n",
       "      <td>1249570771.570</td>\n",
       "      <td>994222.000</td>\n",
       "      <td>3</td>\n",
       "      <td>2018</td>\n",
       "    </tr>\n",
       "    <tr>\n",
       "      <th>4</th>\n",
       "      <td>2018-04</td>\n",
       "      <td>1265569345.190</td>\n",
       "      <td>1006271.000</td>\n",
       "      <td>4</td>\n",
       "      <td>2018</td>\n",
       "    </tr>\n",
       "    <tr>\n",
       "      <th>5</th>\n",
       "      <td>2018-05</td>\n",
       "      <td>1279917419.730</td>\n",
       "      <td>1018405.000</td>\n",
       "      <td>5</td>\n",
       "      <td>2018</td>\n",
       "    </tr>\n",
       "    <tr>\n",
       "      <th>6</th>\n",
       "      <td>2018-06</td>\n",
       "      <td>1290689956.310</td>\n",
       "      <td>1016210.500</td>\n",
       "      <td>6</td>\n",
       "      <td>2018</td>\n",
       "    </tr>\n",
       "    <tr>\n",
       "      <th>7</th>\n",
       "      <td>2018-07</td>\n",
       "      <td>1301462492.890</td>\n",
       "      <td>1014016.000</td>\n",
       "      <td>7</td>\n",
       "      <td>2018</td>\n",
       "    </tr>\n",
       "    <tr>\n",
       "      <th>8</th>\n",
       "      <td>2018-08</td>\n",
       "      <td>1316574487.520</td>\n",
       "      <td>1020220.000</td>\n",
       "      <td>8</td>\n",
       "      <td>2018</td>\n",
       "    </tr>\n",
       "    <tr>\n",
       "      <th>9</th>\n",
       "      <td>2018-09</td>\n",
       "      <td>1272478809.490</td>\n",
       "      <td>988931.000</td>\n",
       "      <td>9</td>\n",
       "      <td>2018</td>\n",
       "    </tr>\n",
       "    <tr>\n",
       "      <th>10</th>\n",
       "      <td>2018-10</td>\n",
       "      <td>1263309754.060</td>\n",
       "      <td>978677.000</td>\n",
       "      <td>10</td>\n",
       "      <td>2018</td>\n",
       "    </tr>\n",
       "    <tr>\n",
       "      <th>11</th>\n",
       "      <td>2018-11</td>\n",
       "      <td>1254140698.630</td>\n",
       "      <td>968423.000</td>\n",
       "      <td>11</td>\n",
       "      <td>2018</td>\n",
       "    </tr>\n",
       "    <tr>\n",
       "      <th>12</th>\n",
       "      <td>2018-12</td>\n",
       "      <td>1218271415.110</td>\n",
       "      <td>932863.000</td>\n",
       "      <td>12</td>\n",
       "      <td>2018</td>\n",
       "    </tr>\n",
       "    <tr>\n",
       "      <th>13</th>\n",
       "      <td>2019-01</td>\n",
       "      <td>1288031980.070</td>\n",
       "      <td>980496.000</td>\n",
       "      <td>1</td>\n",
       "      <td>2019</td>\n",
       "    </tr>\n",
       "    <tr>\n",
       "      <th>14</th>\n",
       "      <td>2019-02</td>\n",
       "      <td>1226362165.530</td>\n",
       "      <td>947202.000</td>\n",
       "      <td>2</td>\n",
       "      <td>2019</td>\n",
       "    </tr>\n",
       "    <tr>\n",
       "      <th>15</th>\n",
       "      <td>2019-03</td>\n",
       "      <td>1262705858.780</td>\n",
       "      <td>980133.500</td>\n",
       "      <td>3</td>\n",
       "      <td>2019</td>\n",
       "    </tr>\n",
       "    <tr>\n",
       "      <th>16</th>\n",
       "      <td>2019-04</td>\n",
       "      <td>1299049552.030</td>\n",
       "      <td>1013065.000</td>\n",
       "      <td>4</td>\n",
       "      <td>2019</td>\n",
       "    </tr>\n",
       "    <tr>\n",
       "      <th>17</th>\n",
       "      <td>2019-05</td>\n",
       "      <td>1300879710.510</td>\n",
       "      <td>1009240.500</td>\n",
       "      <td>5</td>\n",
       "      <td>2019</td>\n",
       "    </tr>\n",
       "    <tr>\n",
       "      <th>18</th>\n",
       "      <td>2019-06</td>\n",
       "      <td>1302709868.990</td>\n",
       "      <td>1005416.000</td>\n",
       "      <td>6</td>\n",
       "      <td>2019</td>\n",
       "    </tr>\n",
       "    <tr>\n",
       "      <th>19</th>\n",
       "      <td>2019-07</td>\n",
       "      <td>1352327454.580</td>\n",
       "      <td>1018125.000</td>\n",
       "      <td>7</td>\n",
       "      <td>2019</td>\n",
       "    </tr>\n",
       "  </tbody>\n",
       "</table>\n",
       "</div>"
      ],
      "text/plain": [
       "   month_year    valor_total  internacoes  month  year\n",
       "0     2017-12 1201828188.240   939601.000     12  2017\n",
       "1     2018-01 1225699479.905   966911.500      1  2018\n",
       "2     2018-02 1225699479.905   966911.500      2  2018\n",
       "3     2018-03 1249570771.570   994222.000      3  2018\n",
       "4     2018-04 1265569345.190  1006271.000      4  2018\n",
       "5     2018-05 1279917419.730  1018405.000      5  2018\n",
       "6     2018-06 1290689956.310  1016210.500      6  2018\n",
       "7     2018-07 1301462492.890  1014016.000      7  2018\n",
       "8     2018-08 1316574487.520  1020220.000      8  2018\n",
       "9     2018-09 1272478809.490   988931.000      9  2018\n",
       "10    2018-10 1263309754.060   978677.000     10  2018\n",
       "11    2018-11 1254140698.630   968423.000     11  2018\n",
       "12    2018-12 1218271415.110   932863.000     12  2018\n",
       "13    2019-01 1288031980.070   980496.000      1  2019\n",
       "14    2019-02 1226362165.530   947202.000      2  2019\n",
       "15    2019-03 1262705858.780   980133.500      3  2019\n",
       "16    2019-04 1299049552.030  1013065.000      4  2019\n",
       "17    2019-05 1300879710.510  1009240.500      5  2019\n",
       "18    2019-06 1302709868.990  1005416.000      6  2019\n",
       "19    2019-07 1352327454.580  1018125.000      7  2019"
      ]
     },
     "execution_count": 44,
     "metadata": {},
     "output_type": "execute_result"
    }
   ],
   "source": [
    "# montando nossa df final com os períodos que faltavam preenchidos pela média entre períodos\n",
    "df4 = df4[['month_year', 'valor_total', 'internacoes']]\n",
    "df4['month_year'] = pd.to_datetime(df4['month_year'])\n",
    "df4['month'] = df4['month_year'].dt.month\n",
    "df4['year'] = df4['month_year'].dt.year\n",
    "df4['month_year'] = df4['month_year'].apply(lambda x: datetime.strftime(x, '%Y-%m'))\n",
    "df4"
   ]
  },
  {
   "cell_type": "markdown",
   "id": "cba21514",
   "metadata": {
    "heading_collapsed": true,
    "hidden": true
   },
   "source": [
    "## 4.2 DF Internações"
   ]
  },
  {
   "cell_type": "markdown",
   "id": "977309a0",
   "metadata": {
    "hidden": true
   },
   "source": [
    "Como temos o objetivo de fazer a previsão de 6 meses após o fim dos nossos dados das internações, óbitos e valor médio aih, vamos preparar dataframes estratégicos para esse objetivo."
   ]
  },
  {
   "cell_type": "code",
   "execution_count": 45,
   "id": "22e88a5f",
   "metadata": {
    "hidden": true,
    "scrolled": true
   },
   "outputs": [
    {
     "data": {
      "text/html": [
       "<div>\n",
       "<style scoped>\n",
       "    .dataframe tbody tr th:only-of-type {\n",
       "        vertical-align: middle;\n",
       "    }\n",
       "\n",
       "    .dataframe tbody tr th {\n",
       "        vertical-align: top;\n",
       "    }\n",
       "\n",
       "    .dataframe thead th {\n",
       "        text-align: right;\n",
       "    }\n",
       "</style>\n",
       "<table border=\"1\" class=\"dataframe\">\n",
       "  <thead>\n",
       "    <tr style=\"text-align: right;\">\n",
       "      <th></th>\n",
       "      <th>month_year</th>\n",
       "      <th>internacoes</th>\n",
       "    </tr>\n",
       "  </thead>\n",
       "  <tbody>\n",
       "    <tr>\n",
       "      <th>0</th>\n",
       "      <td>2017-12</td>\n",
       "      <td>939601.000</td>\n",
       "    </tr>\n",
       "    <tr>\n",
       "      <th>1</th>\n",
       "      <td>2018-01</td>\n",
       "      <td>966911.500</td>\n",
       "    </tr>\n",
       "    <tr>\n",
       "      <th>2</th>\n",
       "      <td>2018-02</td>\n",
       "      <td>966911.500</td>\n",
       "    </tr>\n",
       "    <tr>\n",
       "      <th>3</th>\n",
       "      <td>2018-03</td>\n",
       "      <td>994222.000</td>\n",
       "    </tr>\n",
       "    <tr>\n",
       "      <th>4</th>\n",
       "      <td>2018-04</td>\n",
       "      <td>1006271.000</td>\n",
       "    </tr>\n",
       "  </tbody>\n",
       "</table>\n",
       "</div>"
      ],
      "text/plain": [
       "  month_year  internacoes\n",
       "0    2017-12   939601.000\n",
       "1    2018-01   966911.500\n",
       "2    2018-02   966911.500\n",
       "3    2018-03   994222.000\n",
       "4    2018-04  1006271.000"
      ]
     },
     "execution_count": 45,
     "metadata": {},
     "output_type": "execute_result"
    }
   ],
   "source": [
    "df_internacoes = df4[['month_year', 'internacoes']]\n",
    "df_internacoes.head()"
   ]
  },
  {
   "cell_type": "markdown",
   "id": "d22512bb",
   "metadata": {
    "heading_collapsed": true,
    "hidden": true
   },
   "source": [
    "## 4.3 DF Óbitos"
   ]
  },
  {
   "cell_type": "code",
   "execution_count": 46,
   "id": "40714652",
   "metadata": {
    "hidden": true
   },
   "outputs": [],
   "source": [
    "aux1 = df3[['month_year', 'obitos']].groupby('month_year').sum().reset_index()\n",
    "df4 = pd.merge(aux1, df4, how = 'right', on = 'month_year')\n",
    "df4['obitos_ffill'] = df4['obitos'].fillna(method = 'ffill')\n",
    "df4['obitos_bfill'] = df4['obitos'].fillna(method = 'bfill')\n",
    "df4['obitos'] = (df4['obitos_ffill'] + df4['obitos_bfill'])/2"
   ]
  },
  {
   "cell_type": "code",
   "execution_count": 47,
   "id": "a4dbdc3a",
   "metadata": {
    "hidden": true
   },
   "outputs": [
    {
     "data": {
      "text/html": [
       "<div>\n",
       "<style scoped>\n",
       "    .dataframe tbody tr th:only-of-type {\n",
       "        vertical-align: middle;\n",
       "    }\n",
       "\n",
       "    .dataframe tbody tr th {\n",
       "        vertical-align: top;\n",
       "    }\n",
       "\n",
       "    .dataframe thead th {\n",
       "        text-align: right;\n",
       "    }\n",
       "</style>\n",
       "<table border=\"1\" class=\"dataframe\">\n",
       "  <thead>\n",
       "    <tr style=\"text-align: right;\">\n",
       "      <th></th>\n",
       "      <th>month_year</th>\n",
       "      <th>internacoes</th>\n",
       "      <th>obitos</th>\n",
       "    </tr>\n",
       "  </thead>\n",
       "  <tbody>\n",
       "    <tr>\n",
       "      <th>0</th>\n",
       "      <td>2017-12</td>\n",
       "      <td>939601.000</td>\n",
       "      <td>38881.000</td>\n",
       "    </tr>\n",
       "    <tr>\n",
       "      <th>1</th>\n",
       "      <td>2018-01</td>\n",
       "      <td>966911.500</td>\n",
       "      <td>39685.500</td>\n",
       "    </tr>\n",
       "    <tr>\n",
       "      <th>2</th>\n",
       "      <td>2018-02</td>\n",
       "      <td>966911.500</td>\n",
       "      <td>39685.500</td>\n",
       "    </tr>\n",
       "    <tr>\n",
       "      <th>3</th>\n",
       "      <td>2018-03</td>\n",
       "      <td>994222.000</td>\n",
       "      <td>40490.000</td>\n",
       "    </tr>\n",
       "    <tr>\n",
       "      <th>4</th>\n",
       "      <td>2018-04</td>\n",
       "      <td>1006271.000</td>\n",
       "      <td>41111.000</td>\n",
       "    </tr>\n",
       "  </tbody>\n",
       "</table>\n",
       "</div>"
      ],
      "text/plain": [
       "  month_year  internacoes    obitos\n",
       "0    2017-12   939601.000 38881.000\n",
       "1    2018-01   966911.500 39685.500\n",
       "2    2018-02   966911.500 39685.500\n",
       "3    2018-03   994222.000 40490.000\n",
       "4    2018-04  1006271.000 41111.000"
      ]
     },
     "execution_count": 47,
     "metadata": {},
     "output_type": "execute_result"
    }
   ],
   "source": [
    "df_obitos = df4[['month_year', 'internacoes','obitos']]\n",
    "df_obitos.head()"
   ]
  },
  {
   "cell_type": "markdown",
   "id": "379e5d9b",
   "metadata": {
    "heading_collapsed": true,
    "hidden": true
   },
   "source": [
    "## 4.2 DF Valor Médio AIH"
   ]
  },
  {
   "cell_type": "code",
   "execution_count": 48,
   "id": "e8fd076d",
   "metadata": {
    "hidden": true
   },
   "outputs": [],
   "source": [
    "aux1 = df3[['month_year', 'valor_medio_aih']].groupby('month_year').mean().reset_index()\n",
    "df4 = pd.merge(aux1, df4, how = 'right', on = 'month_year')\n",
    "df4['vmaih_ffill'] = df4['valor_medio_aih'].fillna(method = 'ffill')\n",
    "df4['vmaih_bfill'] = df4['valor_medio_aih'].fillna(method = 'bfill')\n",
    "df4['valor_medio_aih'] = (df4['vmaih_ffill'] + df4['vmaih_bfill'])/2"
   ]
  },
  {
   "cell_type": "code",
   "execution_count": 49,
   "id": "82d13b40",
   "metadata": {
    "hidden": true
   },
   "outputs": [
    {
     "data": {
      "text/html": [
       "<div>\n",
       "<style scoped>\n",
       "    .dataframe tbody tr th:only-of-type {\n",
       "        vertical-align: middle;\n",
       "    }\n",
       "\n",
       "    .dataframe tbody tr th {\n",
       "        vertical-align: top;\n",
       "    }\n",
       "\n",
       "    .dataframe thead th {\n",
       "        text-align: right;\n",
       "    }\n",
       "</style>\n",
       "<table border=\"1\" class=\"dataframe\">\n",
       "  <thead>\n",
       "    <tr style=\"text-align: right;\">\n",
       "      <th></th>\n",
       "      <th>month_year</th>\n",
       "      <th>internacoes</th>\n",
       "      <th>valor_total</th>\n",
       "      <th>valor_medio_aih</th>\n",
       "    </tr>\n",
       "  </thead>\n",
       "  <tbody>\n",
       "    <tr>\n",
       "      <th>0</th>\n",
       "      <td>2017-12</td>\n",
       "      <td>939601.000</td>\n",
       "      <td>1201828188.240</td>\n",
       "      <td>1109.117</td>\n",
       "    </tr>\n",
       "    <tr>\n",
       "      <th>1</th>\n",
       "      <td>2018-01</td>\n",
       "      <td>966911.500</td>\n",
       "      <td>1225699479.905</td>\n",
       "      <td>1106.674</td>\n",
       "    </tr>\n",
       "    <tr>\n",
       "      <th>2</th>\n",
       "      <td>2018-02</td>\n",
       "      <td>966911.500</td>\n",
       "      <td>1225699479.905</td>\n",
       "      <td>1106.674</td>\n",
       "    </tr>\n",
       "    <tr>\n",
       "      <th>3</th>\n",
       "      <td>2018-03</td>\n",
       "      <td>994222.000</td>\n",
       "      <td>1249570771.570</td>\n",
       "      <td>1104.230</td>\n",
       "    </tr>\n",
       "    <tr>\n",
       "      <th>4</th>\n",
       "      <td>2018-04</td>\n",
       "      <td>1006271.000</td>\n",
       "      <td>1265569345.190</td>\n",
       "      <td>1099.852</td>\n",
       "    </tr>\n",
       "  </tbody>\n",
       "</table>\n",
       "</div>"
      ],
      "text/plain": [
       "  month_year  internacoes    valor_total  valor_medio_aih\n",
       "0    2017-12   939601.000 1201828188.240         1109.117\n",
       "1    2018-01   966911.500 1225699479.905         1106.674\n",
       "2    2018-02   966911.500 1225699479.905         1106.674\n",
       "3    2018-03   994222.000 1249570771.570         1104.230\n",
       "4    2018-04  1006271.000 1265569345.190         1099.852"
      ]
     },
     "execution_count": 49,
     "metadata": {},
     "output_type": "execute_result"
    }
   ],
   "source": [
    "df_vmaih = df4[['month_year', 'internacoes', 'valor_total', 'valor_medio_aih']]\n",
    "df_vmaih.head()"
   ]
  },
  {
   "cell_type": "markdown",
   "id": "80e12fe5",
   "metadata": {
    "heading_collapsed": true
   },
   "source": [
    "# 5. Modelo"
   ]
  },
  {
   "cell_type": "markdown",
   "id": "364b029e",
   "metadata": {
    "hidden": true
   },
   "source": [
    "Para criarmos modelos capazes de prever os valores de internações, número de óbitos e valor médio de AIH pelos próximos 6 meses temos que analisar nossas variáveis resposta.\n",
    "\n",
    "* **Internações**\n",
    "\n",
    "    Dentro da nossa base de dados, temos variáveis altamente correlacionadas com as internações, como aih autorizadas, valor total, vsh, etc. Porém, quando paramos para pensar em modelos preditivos entendemos que essas variáveis, apesar de serem altamente correlacionadas, não serão úteis para a criação do modelo. \n",
    "\n",
    "    Isso ocorre porque elas são dependentes dos números de internações, não causadoras. Para prever o número de internações pelos próximos 6 meses precisamos de variáveis que causam o número de internações e estejam disponíveis antes do período que queremos prever. \n",
    "    \n",
    "    Como não possuímos variáveis explicadoras, trataremos o modelo como uma série temporal auto regressiva. \n",
    "    \n",
    "    \n",
    "* **Óbitos**\n",
    "\n",
    "    Também possuímos variáveis altamente correlacionadas com o número de óbitos, como internações. Entretanto, apesar de serem causadoras do número de óbitos, no sentido de que é preciso ter a internação para podermos contabilizar o óbito, não possuímos a informação de internação previamente. Enquanto a computação de internações está sendo feita, temos também a contabilização dos óbitos no mesmo período. \n",
    "    Portanto, o que usaremos são as internações do período anterior para estimar os óbitos do período atual. \n",
    "    \n",
    "    \n",
    "* **Valor médio de AIH**\n",
    "    \n",
    "    O valor de internações segue o mesmo racional dos óbitos, apesar de altamente correlacionado com as internações, elas são computadas e ocorrem simultaneamente. Por conta disso, utilizaremos a informação histórica de internações e valor total de internação para estimarmos o valor médio da AIH atual. "
   ]
  },
  {
   "cell_type": "code",
   "execution_count": 50,
   "id": "0b935b38",
   "metadata": {
    "hidden": true
   },
   "outputs": [],
   "source": [
    "df5 = df4.copy()"
   ]
  },
  {
   "cell_type": "markdown",
   "id": "203f51f8",
   "metadata": {
    "heading_collapsed": true,
    "hidden": true
   },
   "source": [
    "## 5.1 Internações"
   ]
  },
  {
   "cell_type": "markdown",
   "id": "8a66fa31",
   "metadata": {
    "heading_collapsed": true,
    "hidden": true
   },
   "source": [
    "### 5.1.1 Modelo Naive"
   ]
  },
  {
   "cell_type": "markdown",
   "id": "328c43d0",
   "metadata": {
    "hidden": true
   },
   "source": [
    "O modelo naive é um modelo básico de séries temporais cuja premissa é que o valor de t será igual ao valor t-1. Esse modelo dificilmente apresenta um bom resultado e será usado como baseline, apenas para termos uma estimativa base para comparar o outro modelo. "
   ]
  },
  {
   "cell_type": "code",
   "execution_count": 51,
   "id": "6fcfe177",
   "metadata": {
    "hidden": true
   },
   "outputs": [],
   "source": [
    "df_internacoes = df_internacoes[['month_year', 'internacoes']]\n",
    "df_internacoes['month_year'] = pd.to_datetime(df_internacoes['month_year']) \n",
    "df_internacoes.set_index('month_year', inplace=True)"
   ]
  },
  {
   "cell_type": "code",
   "execution_count": 52,
   "id": "9823dd84",
   "metadata": {
    "hidden": true
   },
   "outputs": [],
   "source": [
    "df_internacoes['naive'] = df_internacoes['internacoes'].shift(1)"
   ]
  },
  {
   "cell_type": "code",
   "execution_count": 53,
   "id": "4790e522",
   "metadata": {
    "hidden": true
   },
   "outputs": [
    {
     "data": {
      "image/png": "[encoded data removed]",
      "text/plain": [
       "<Figure size 576x360 with 1 Axes>"
      ]
     },
     "metadata": {},
     "output_type": "display_data"
    }
   ],
   "source": [
    "df_internacoes.plot(figsize=(8,5));"
   ]
  },
  {
   "cell_type": "markdown",
   "id": "157601e4",
   "metadata": {
    "hidden": true
   },
   "source": [
    "Como métrica de avaliação do modelo, vamos usar a média de erro absoluta (MAE) e média de erro quadrático (MSE). A MAE mostra, em média, quanto erramos na previsão de cada um dos meses enquando a MSE mostra a média dos erros ao quadrado. \n",
    "\n",
    "Por mais que seja mais fácil de interpretar a MAE a importância da MSE é nos mostrar se estamos errando os valores por grande diferença ou pequena. A MAE pode acabar apresentando um valor pequeno caso nossa grandeza de erros para mais e menos seja similar, e.g., se eu errar a previsão por -100.000 em um mês e + 100.000 em outro mês a média será zero, o uqe pode dar a impressão de não haver erro. \n",
    "\n",
    "A MSE mostra a grandeza do nosso erro de maneira absoluta, já que eleva ao quadrado os valores, tornando os valores negativos em positivos.\n"
   ]
  },
  {
   "cell_type": "code",
   "execution_count": 54,
   "id": "2297fb94",
   "metadata": {
    "hidden": true
   },
   "outputs": [
    {
     "name": "stdout",
     "output_type": "stream",
     "text": [
      "O erro absoluto médio mensal é de 17,588.4 enquanto o erro quadrático médio mensal é de 515,407,443.8.\n"
     ]
    }
   ],
   "source": [
    "mae = mean_absolute_error(df_internacoes['internacoes'].iloc[2:], df_internacoes['naive'].iloc[2:])\n",
    "mse = mean_squared_error(df_internacoes['internacoes'].iloc[2:], df_internacoes['naive'].iloc[2:])\n",
    "\n",
    "print(\"O erro absoluto médio mensal é de {:,.6} enquanto o erro quadrático médio mensal é de {:,.10}.\".format(mae, mse))"
   ]
  },
  {
   "cell_type": "markdown",
   "id": "1213d65b",
   "metadata": {
    "hidden": true
   },
   "source": [
    "### 5.1.2 Modelo AutoRegressivo "
   ]
  },
  {
   "cell_type": "markdown",
   "id": "de041208",
   "metadata": {
    "heading_collapsed": true,
    "hidden": true
   },
   "source": [
    "#### 5.1.2.1 Um lag"
   ]
  },
  {
   "cell_type": "code",
   "execution_count": 55,
   "id": "1e598c65",
   "metadata": {
    "hidden": true,
    "scrolled": true
   },
   "outputs": [],
   "source": [
    "df_internacoes['lag1'] = df_internacoes['internacoes'].shift(1)\n",
    "df_internacoes.dropna(axis = 0, inplace = True)"
   ]
  },
  {
   "cell_type": "code",
   "execution_count": 56,
   "id": "cf6d3e7c",
   "metadata": {
    "hidden": true
   },
   "outputs": [
    {
     "name": "stderr",
     "output_type": "stream",
     "text": [
      "/home/julia-penalva/.pyenv/versions/3.10.1/lib/python3.10/site-packages/statsmodels/tsa/base/tsa_model.py:536: ValueWarning: No frequency information was provided, so inferred frequency MS will be used.\n",
      "  warnings.warn('No frequency information was'\n"
     ]
    }
   ],
   "source": [
    "ar1 = AutoReg(df_internacoes['internacoes'], lags = 1).fit()"
   ]
  },
  {
   "cell_type": "code",
   "execution_count": 57,
   "id": "64889478",
   "metadata": {
    "hidden": true
   },
   "outputs": [
    {
     "name": "stdout",
     "output_type": "stream",
     "text": [
      "O erro absoluto médio mensal é de -4.2039e-10 enquanto o erro quadrático médio mensal é de 409,253,112.3.\n"
     ]
    }
   ],
   "source": [
    "mae = ar1.resid.mean()\n",
    "mse = (ar1.resid ** 2).mean()\n",
    "print(\"O erro absoluto médio mensal é de {:,.5} enquanto o erro quadrático médio mensal é de {:,.10}.\".format(mae, mse))"
   ]
  },
  {
   "cell_type": "code",
   "execution_count": 58,
   "id": "0bd4aa6a",
   "metadata": {
    "hidden": true
   },
   "outputs": [
    {
     "data": {
      "image/png": "[encoded data removed]",
      "text/plain": [
       "<Figure size 842.4x595.44 with 1 Axes>"
      ]
     },
     "metadata": {},
     "output_type": "display_data"
    }
   ],
   "source": [
    "df_internacoes['ar1'] = ar1.predict()\n",
    "df_internacoes[['internacoes', 'ar1']].plot();"
   ]
  },
  {
   "cell_type": "markdown",
   "id": "d4fc5eb6",
   "metadata": {
    "heading_collapsed": true,
    "hidden": true
   },
   "source": [
    "#### 5.1.2.2 Dois lags"
   ]
  },
  {
   "cell_type": "code",
   "execution_count": 59,
   "id": "6dc23135",
   "metadata": {
    "hidden": true
   },
   "outputs": [],
   "source": [
    "df_internacoes['lag1'] = df_internacoes['internacoes'].shift(1)\n",
    "df_internacoes['lag2'] = df_internacoes['internacoes'].shift(2)\n",
    "df_internacoes.dropna(axis = 0, inplace = True)"
   ]
  },
  {
   "cell_type": "code",
   "execution_count": 60,
   "id": "07e2ad1c",
   "metadata": {
    "hidden": true
   },
   "outputs": [
    {
     "name": "stdout",
     "output_type": "stream",
     "text": [
      "O erro absoluto médio mensal é de -3.8805e-10 enquanto o erro quadrático médio mensal é de 444,161,170.4.\n"
     ]
    },
    {
     "name": "stderr",
     "output_type": "stream",
     "text": [
      "/home/julia-penalva/.pyenv/versions/3.10.1/lib/python3.10/site-packages/statsmodels/tsa/base/tsa_model.py:536: ValueWarning: No frequency information was provided, so inferred frequency MS will be used.\n",
      "  warnings.warn('No frequency information was'\n"
     ]
    }
   ],
   "source": [
    "ar2 = AutoReg(df_internacoes['internacoes'], lags = 2).fit()\n",
    "mae = ar2.resid.mean()\n",
    "mse = (ar2.resid ** 2).mean()\n",
    "print(\"O erro absoluto médio mensal é de {:,.5} enquanto o erro quadrático médio mensal é de {:,.10}.\".format(mae, mse))"
   ]
  },
  {
   "cell_type": "code",
   "execution_count": 61,
   "id": "625c555b",
   "metadata": {
    "hidden": true
   },
   "outputs": [
    {
     "data": {
      "image/png": "[encoded data removed]",
      "text/plain": [
       "<Figure size 842.4x595.44 with 1 Axes>"
      ]
     },
     "metadata": {},
     "output_type": "display_data"
    }
   ],
   "source": [
    "df_internacoes['ar2'] = ar1.predict()\n",
    "df_internacoes[['internacoes', 'ar2']].plot();"
   ]
  },
  {
   "cell_type": "markdown",
   "id": "b04e6e2c",
   "metadata": {
    "hidden": true
   },
   "source": [
    "Testamos o modelo de 1 e 2 lags para a previsão do valor futuro das internações, ambos com resultado melhor que o Naive. Entretando o modelo de 1 lag possui um erro menor, então será utilizado para prever os próximos 6 meses. \n",
    "\n",
    "Isso ocorre provavelmente porque, com o maior número de lags criados, temos que nos livrar das linhas que ficam com valores nulos e como nossa amostra é pequena essa perda de informação afeta negativamente o modelo."
   ]
  },
  {
   "cell_type": "markdown",
   "id": "187133e5",
   "metadata": {
    "hidden": true
   },
   "source": [
    "### 5.1.3 Previsão"
   ]
  },
  {
   "cell_type": "code",
   "execution_count": 62,
   "id": "bcc0bc80",
   "metadata": {
    "hidden": true
   },
   "outputs": [
    {
     "name": "stderr",
     "output_type": "stream",
     "text": [
      "/home/julia-penalva/.pyenv/versions/3.10.1/lib/python3.10/site-packages/statsmodels/tsa/deterministic.py:152: UserWarning: Only PeriodIndexes, DatetimeIndexes with a frequency set, RangesIndexes, and NumericIndex with a unit increment support extending. The index is set will contain the position relative to the data length.\n",
      "  warnings.warn(\n"
     ]
    },
    {
     "data": {
      "text/html": [
       "<div>\n",
       "<style scoped>\n",
       "    .dataframe tbody tr th:only-of-type {\n",
       "        vertical-align: middle;\n",
       "    }\n",
       "\n",
       "    .dataframe tbody tr th {\n",
       "        vertical-align: top;\n",
       "    }\n",
       "\n",
       "    .dataframe thead th {\n",
       "        text-align: right;\n",
       "    }\n",
       "</style>\n",
       "<table border=\"1\" class=\"dataframe\">\n",
       "  <thead>\n",
       "    <tr style=\"text-align: right;\">\n",
       "      <th></th>\n",
       "      <th>internacoes</th>\n",
       "    </tr>\n",
       "  </thead>\n",
       "  <tbody>\n",
       "    <tr>\n",
       "      <th>2019-08-01</th>\n",
       "      <td>1009604.133</td>\n",
       "    </tr>\n",
       "    <tr>\n",
       "      <th>2019-09-01</th>\n",
       "      <td>1004444.541</td>\n",
       "    </tr>\n",
       "    <tr>\n",
       "      <th>2019-10-01</th>\n",
       "      <td>1001320.282</td>\n",
       "    </tr>\n",
       "    <tr>\n",
       "      <th>2019-11-01</th>\n",
       "      <td>999428.468</td>\n",
       "    </tr>\n",
       "    <tr>\n",
       "      <th>2019-12-01</th>\n",
       "      <td>998282.929</td>\n",
       "    </tr>\n",
       "    <tr>\n",
       "      <th>2020-01-01</th>\n",
       "      <td>997589.277</td>\n",
       "    </tr>\n",
       "  </tbody>\n",
       "</table>\n",
       "</div>"
      ],
      "text/plain": [
       "            internacoes\n",
       "2019-08-01  1009604.133\n",
       "2019-09-01  1004444.541\n",
       "2019-10-01  1001320.282\n",
       "2019-11-01   999428.468\n",
       "2019-12-01   998282.929\n",
       "2020-01-01   997589.277"
      ]
     },
     "execution_count": 62,
     "metadata": {},
     "output_type": "execute_result"
    }
   ],
   "source": [
    "prev = pd.DataFrame(data = ar1.predict('2019-08-01', '2020-01-01'));\n",
    "prev.rename(columns ={0: 'internacoes'})"
   ]
  },
  {
   "cell_type": "code",
   "execution_count": 63,
   "id": "ee800ff6",
   "metadata": {
    "hidden": true
   },
   "outputs": [
    {
     "data": {
      "image/png": "[encoded data removed]",
      "text/plain": [
       "<Figure size 576x360 with 1 Axes>"
      ]
     },
     "metadata": {},
     "output_type": "display_data"
    }
   ],
   "source": [
    "prev.plot(figsize = (8,5));"
   ]
  },
  {
   "cell_type": "markdown",
   "id": "1bc1d290",
   "metadata": {
    "hidden": true
   },
   "source": [
    "Apesar de estarmos prevendo os valores dos próximos 6 meses, o ideal era que o modelo fosse utilizado somente para prever o valor imediatamente posterior ao último dado que efetivamente ocorreu. Logo, a previsão seria feita somente de Agosto/2019.\n",
    "\n",
    "Isso ocorre porque, prevendo mais de um período, estamos utilizando as próprias previsões que fizemos como input do modelo, não dados reais, e isso acaba 'contaminando' o modelo."
   ]
  },
  {
   "cell_type": "markdown",
   "id": "4053c108",
   "metadata": {
    "hidden": true
   },
   "source": [
    "## 5.2 Óbitos"
   ]
  },
  {
   "cell_type": "code",
   "execution_count": 64,
   "id": "7a418a95",
   "metadata": {
    "hidden": true,
    "scrolled": true
   },
   "outputs": [
    {
     "data": {
      "text/html": [
       "<div>\n",
       "<style scoped>\n",
       "    .dataframe tbody tr th:only-of-type {\n",
       "        vertical-align: middle;\n",
       "    }\n",
       "\n",
       "    .dataframe tbody tr th {\n",
       "        vertical-align: top;\n",
       "    }\n",
       "\n",
       "    .dataframe thead th {\n",
       "        text-align: right;\n",
       "    }\n",
       "</style>\n",
       "<table border=\"1\" class=\"dataframe\">\n",
       "  <thead>\n",
       "    <tr style=\"text-align: right;\">\n",
       "      <th></th>\n",
       "      <th>month_year</th>\n",
       "      <th>internacoes</th>\n",
       "      <th>obitos</th>\n",
       "    </tr>\n",
       "  </thead>\n",
       "  <tbody>\n",
       "    <tr>\n",
       "      <th>0</th>\n",
       "      <td>2017-12</td>\n",
       "      <td>939601.000</td>\n",
       "      <td>38881.000</td>\n",
       "    </tr>\n",
       "    <tr>\n",
       "      <th>1</th>\n",
       "      <td>2018-01</td>\n",
       "      <td>966911.500</td>\n",
       "      <td>39685.500</td>\n",
       "    </tr>\n",
       "    <tr>\n",
       "      <th>2</th>\n",
       "      <td>2018-02</td>\n",
       "      <td>966911.500</td>\n",
       "      <td>39685.500</td>\n",
       "    </tr>\n",
       "    <tr>\n",
       "      <th>3</th>\n",
       "      <td>2018-03</td>\n",
       "      <td>994222.000</td>\n",
       "      <td>40490.000</td>\n",
       "    </tr>\n",
       "    <tr>\n",
       "      <th>4</th>\n",
       "      <td>2018-04</td>\n",
       "      <td>1006271.000</td>\n",
       "      <td>41111.000</td>\n",
       "    </tr>\n",
       "  </tbody>\n",
       "</table>\n",
       "</div>"
      ],
      "text/plain": [
       "  month_year  internacoes    obitos\n",
       "0    2017-12   939601.000 38881.000\n",
       "1    2018-01   966911.500 39685.500\n",
       "2    2018-02   966911.500 39685.500\n",
       "3    2018-03   994222.000 40490.000\n",
       "4    2018-04  1006271.000 41111.000"
      ]
     },
     "execution_count": 64,
     "metadata": {},
     "output_type": "execute_result"
    }
   ],
   "source": [
    "df_obitos.head()"
   ]
  },
  {
   "cell_type": "markdown",
   "id": "f787e338",
   "metadata": {
    "hidden": true
   },
   "source": [
    "### 5.2.1 Modelo Naive"
   ]
  },
  {
   "cell_type": "markdown",
   "id": "311db393",
   "metadata": {
    "hidden": true
   },
   "source": [
    "Nosso modelo base para a previsão de óbitos:"
   ]
  },
  {
   "cell_type": "code",
   "execution_count": 65,
   "id": "1f7d71ff",
   "metadata": {
    "hidden": true
   },
   "outputs": [],
   "source": [
    "df_obitos['month_year'] = pd.to_datetime(df_obitos['month_year']) \n",
    "df_obitos.set_index('month_year', inplace=True)\n",
    "df_obitos['naive'] = df_obitos['obitos'].shift(1)"
   ]
  },
  {
   "cell_type": "code",
   "execution_count": 66,
   "id": "e9b6d008",
   "metadata": {
    "hidden": true
   },
   "outputs": [
    {
     "data": {
      "image/png": "[encoded data removed]",
      "text/plain": [
       "<Figure size 576x360 with 1 Axes>"
      ]
     },
     "metadata": {},
     "output_type": "display_data"
    }
   ],
   "source": [
    "df_obitos[['naive', 'obitos']].plot(figsize=(8,5));"
   ]
  },
  {
   "cell_type": "code",
   "execution_count": 67,
   "id": "ee1c7d45",
   "metadata": {
    "hidden": true
   },
   "outputs": [
    {
     "name": "stdout",
     "output_type": "stream",
     "text": [
      "O erro absoluto médio mensal é de 1,620.69 enquanto o erro quadrático médio mensal é de 4,104,793.514.\n"
     ]
    }
   ],
   "source": [
    "mae = mean_absolute_error(df_obitos['obitos'].iloc[2:], df_obitos['naive'].iloc[2:])\n",
    "mse = mean_squared_error(df_obitos['obitos'].iloc[2:], df_obitos['naive'].iloc[2:])\n",
    "\n",
    "print(\"O erro absoluto médio mensal é de {:,.6} enquanto o erro quadrático médio mensal é de {:,.10}.\".format(mae, mse))"
   ]
  },
  {
   "cell_type": "markdown",
   "id": "60aaddcb",
   "metadata": {
    "heading_collapsed": true,
    "hidden": true
   },
   "source": [
    "### 5.2.2 Regressão Linear"
   ]
  },
  {
   "cell_type": "markdown",
   "id": "6dc6d313",
   "metadata": {
    "hidden": true
   },
   "source": [
    "Para as internações, usamos um modelo autoregressivo, que utiliza os lags da própria variável target para prever os valores futuros. No caso dos óbitos, vamos usar o lag da variável, mas também usaremos o lag das internações, já que a quantidade de óbitos é altamente correlacionada com ela."
   ]
  },
  {
   "cell_type": "code",
   "execution_count": 68,
   "id": "e5e19ab0",
   "metadata": {
    "hidden": true,
    "scrolled": true
   },
   "outputs": [],
   "source": [
    "df_obitos.rename(columns={'naive': 'lag1'}, inplace = True)\n",
    "df_obitos['internacoes_lag'] = df_obitos['internacoes'].shift(1)\n",
    "df_obitos.dropna(axis = 0, inplace = True)"
   ]
  },
  {
   "cell_type": "code",
   "execution_count": 69,
   "id": "fc0c64fa",
   "metadata": {
    "hidden": true
   },
   "outputs": [],
   "source": [
    "# definindo x e y\n",
    "X = df_obitos.drop(['obitos','internacoes'], axis = 1)\n",
    "y = df_obitos['obitos']\n",
    "\n",
    "# definindo dados de treino e teste\n",
    "train_size = 0.75\n",
    "X_train = X.iloc[:int(len(df_obitos)*train_size)]\n",
    "X_test = X.iloc[int(len(df_obitos)*train_size):]\n",
    "y_train = y.iloc[:int(len(df_obitos)*train_size)]\n",
    "y_test = y.iloc[int(len(df_obitos)*train_size):]\n",
    "\n",
    "# configurando modelo\n",
    "reg = LinearRegression()"
   ]
  },
  {
   "cell_type": "code",
   "execution_count": 70,
   "id": "524c59d3",
   "metadata": {
    "hidden": true
   },
   "outputs": [
    {
     "name": "stdout",
     "output_type": "stream",
     "text": [
      "O erro absoluto médio é de 1,435.3 e o erro quadrático é de 4,012,992.999.\n"
     ]
    }
   ],
   "source": [
    "# treinando modelo\n",
    "reg.fit(X_train, y_train)\n",
    "\n",
    "# predizendo valores\n",
    "y_pred = reg.predict(X_test)\n",
    "\n",
    "# avaliação do modelo\n",
    "mae = mean_absolute_error(y_test, y_pred)\n",
    "mse = mean_squared_error(y_test, y_pred)\n",
    "\n",
    "print(\"O erro absoluto médio é de {:,.5} e o erro quadrático é de {:,.10}.\".format(mae,mse))"
   ]
  },
  {
   "cell_type": "markdown",
   "id": "df498055",
   "metadata": {
    "hidden": true
   },
   "source": [
    "Nosso modelo de regressão tem resultado superior ao nosso baseline, então usaremos ele para a previsão de 6 meses."
   ]
  },
  {
   "cell_type": "markdown",
   "id": "2b0dfc92",
   "metadata": {
    "heading_collapsed": true,
    "hidden": true
   },
   "source": [
    "### 5.2.1 Previsão "
   ]
  },
  {
   "cell_type": "code",
   "execution_count": 71,
   "id": "4711b3d4",
   "metadata": {
    "hidden": true,
    "scrolled": false
   },
   "outputs": [
    {
     "name": "stderr",
     "output_type": "stream",
     "text": [
      "/home/julia-penalva/.pyenv/versions/3.10.1/lib/python3.10/site-packages/pandas/core/frame.py:5039: SettingWithCopyWarning: \n",
      "A value is trying to be set on a copy of a slice from a DataFrame\n",
      "\n",
      "See the caveats in the documentation: https://pandas.pydata.org/pandas-docs/stable/user_guide/indexing.html#returning-a-view-versus-a-copy\n",
      "  return super().rename(\n"
     ]
    }
   ],
   "source": [
    "# usando os últimos dados reais que possuimos para prever o período imediatamente seguinte\n",
    "# precisamos trocar o nome das colunas para o mesmo que treinamos o modelo\n",
    "X_total = df_obitos[['obitos', 'internacoes']]\n",
    "X_total.rename(columns={'internacoes':'internacoes_lag', 'obitos': 'lag1'}, inplace = True)\n",
    "previ = reg.predict(X_total)"
   ]
  },
  {
   "cell_type": "code",
   "execution_count": 72,
   "id": "354aa922",
   "metadata": {
    "hidden": true
   },
   "outputs": [
    {
     "name": "stderr",
     "output_type": "stream",
     "text": [
      "/home/julia-penalva/.pyenv/versions/3.10.1/lib/python3.10/site-packages/pandas/core/indexing.py:1732: SettingWithCopyWarning: \n",
      "A value is trying to be set on a copy of a slice from a DataFrame\n",
      "\n",
      "See the caveats in the documentation: https://pandas.pydata.org/pandas-docs/stable/user_guide/indexing.html#returning-a-view-versus-a-copy\n",
      "  self._setitem_single_block(indexer, value, name)\n"
     ]
    }
   ],
   "source": [
    "# acrescentando a previsão de óbitos no nosso df prev\n",
    "prev = pd.concat([prev, pd.DataFrame(columns = ['previsao_obitos'])])\n",
    "prev['previsao_obitos'].iloc[0] = previ[len(previ)-1]\n",
    "prev.rename(columns = {0: 'previsao_internacoes'}, inplace = True)"
   ]
  },
  {
   "cell_type": "code",
   "execution_count": 73,
   "id": "912a6e10",
   "metadata": {
    "hidden": true,
    "scrolled": true
   },
   "outputs": [
    {
     "name": "stderr",
     "output_type": "stream",
     "text": [
      "/home/julia-penalva/.pyenv/versions/3.10.1/lib/python3.10/site-packages/sklearn/base.py:493: FutureWarning: The feature names should match those that were passed during fit. Starting version 1.2, an error will be raised.\n",
      "Feature names unseen at fit time:\n",
      "- previsao_internacoes\n",
      "- previsao_obitos\n",
      "Feature names seen at fit time, yet now missing:\n",
      "- internacoes_lag\n",
      "- lag1\n",
      "\n",
      "  warnings.warn(message, FutureWarning)\n",
      "/home/julia-penalva/.pyenv/versions/3.10.1/lib/python3.10/site-packages/pandas/core/indexing.py:1732: SettingWithCopyWarning: \n",
      "A value is trying to be set on a copy of a slice from a DataFrame\n",
      "\n",
      "See the caveats in the documentation: https://pandas.pydata.org/pandas-docs/stable/user_guide/indexing.html#returning-a-view-versus-a-copy\n",
      "  self._setitem_single_block(indexer, value, name)\n"
     ]
    }
   ],
   "source": [
    "# previsão do segundo período\n",
    "X_total = pd.DataFrame(prev.iloc[0]).T\n",
    "y = reg.predict(X_total)\n",
    "y=y[0]\n",
    "prev['previsao_obitos'].iloc[1] = y"
   ]
  },
  {
   "cell_type": "code",
   "execution_count": 74,
   "id": "d0cffb67",
   "metadata": {
    "hidden": true,
    "scrolled": true
   },
   "outputs": [
    {
     "name": "stderr",
     "output_type": "stream",
     "text": [
      "/home/julia-penalva/.pyenv/versions/3.10.1/lib/python3.10/site-packages/sklearn/base.py:493: FutureWarning: The feature names should match those that were passed during fit. Starting version 1.2, an error will be raised.\n",
      "Feature names unseen at fit time:\n",
      "- previsao_internacoes\n",
      "- previsao_obitos\n",
      "Feature names seen at fit time, yet now missing:\n",
      "- internacoes_lag\n",
      "- lag1\n",
      "\n",
      "  warnings.warn(message, FutureWarning)\n",
      "/home/julia-penalva/.pyenv/versions/3.10.1/lib/python3.10/site-packages/pandas/core/indexing.py:1732: SettingWithCopyWarning: \n",
      "A value is trying to be set on a copy of a slice from a DataFrame\n",
      "\n",
      "See the caveats in the documentation: https://pandas.pydata.org/pandas-docs/stable/user_guide/indexing.html#returning-a-view-versus-a-copy\n",
      "  self._setitem_single_block(indexer, value, name)\n",
      "/home/julia-penalva/.pyenv/versions/3.10.1/lib/python3.10/site-packages/sklearn/base.py:493: FutureWarning: The feature names should match those that were passed during fit. Starting version 1.2, an error will be raised.\n",
      "Feature names unseen at fit time:\n",
      "- previsao_internacoes\n",
      "- previsao_obitos\n",
      "Feature names seen at fit time, yet now missing:\n",
      "- internacoes_lag\n",
      "- lag1\n",
      "\n",
      "  warnings.warn(message, FutureWarning)\n",
      "/home/julia-penalva/.pyenv/versions/3.10.1/lib/python3.10/site-packages/pandas/core/indexing.py:1732: SettingWithCopyWarning: \n",
      "A value is trying to be set on a copy of a slice from a DataFrame\n",
      "\n",
      "See the caveats in the documentation: https://pandas.pydata.org/pandas-docs/stable/user_guide/indexing.html#returning-a-view-versus-a-copy\n",
      "  self._setitem_single_block(indexer, value, name)\n",
      "/home/julia-penalva/.pyenv/versions/3.10.1/lib/python3.10/site-packages/sklearn/base.py:493: FutureWarning: The feature names should match those that were passed during fit. Starting version 1.2, an error will be raised.\n",
      "Feature names unseen at fit time:\n",
      "- previsao_internacoes\n",
      "- previsao_obitos\n",
      "Feature names seen at fit time, yet now missing:\n",
      "- internacoes_lag\n",
      "- lag1\n",
      "\n",
      "  warnings.warn(message, FutureWarning)\n",
      "/home/julia-penalva/.pyenv/versions/3.10.1/lib/python3.10/site-packages/pandas/core/indexing.py:1732: SettingWithCopyWarning: \n",
      "A value is trying to be set on a copy of a slice from a DataFrame\n",
      "\n",
      "See the caveats in the documentation: https://pandas.pydata.org/pandas-docs/stable/user_guide/indexing.html#returning-a-view-versus-a-copy\n",
      "  self._setitem_single_block(indexer, value, name)\n",
      "/home/julia-penalva/.pyenv/versions/3.10.1/lib/python3.10/site-packages/sklearn/base.py:493: FutureWarning: The feature names should match those that were passed during fit. Starting version 1.2, an error will be raised.\n",
      "Feature names unseen at fit time:\n",
      "- previsao_internacoes\n",
      "- previsao_obitos\n",
      "Feature names seen at fit time, yet now missing:\n",
      "- internacoes_lag\n",
      "- lag1\n",
      "\n",
      "  warnings.warn(message, FutureWarning)\n",
      "/home/julia-penalva/.pyenv/versions/3.10.1/lib/python3.10/site-packages/pandas/core/indexing.py:1732: SettingWithCopyWarning: \n",
      "A value is trying to be set on a copy of a slice from a DataFrame\n",
      "\n",
      "See the caveats in the documentation: https://pandas.pydata.org/pandas-docs/stable/user_guide/indexing.html#returning-a-view-versus-a-copy\n",
      "  self._setitem_single_block(indexer, value, name)\n"
     ]
    }
   ],
   "source": [
    "# prevendo o segundo é possível perceber um padrão para fazer a previsão dos próximos períodos,\n",
    "# com isso conseguimos automatizar essa parte:\n",
    "for i in range(2, len(prev)):\n",
    "    X_total = pd.DataFrame(prev.iloc[i-1]).T\n",
    "    y=reg.predict(X_total)\n",
    "    y = y[0]\n",
    "    prev['previsao_obitos'].iloc[i] = y"
   ]
  },
  {
   "cell_type": "code",
   "execution_count": 75,
   "id": "bf044e06",
   "metadata": {
    "hidden": true
   },
   "outputs": [
    {
     "data": {
      "text/html": [
       "<div>\n",
       "<style scoped>\n",
       "    .dataframe tbody tr th:only-of-type {\n",
       "        vertical-align: middle;\n",
       "    }\n",
       "\n",
       "    .dataframe tbody tr th {\n",
       "        vertical-align: top;\n",
       "    }\n",
       "\n",
       "    .dataframe thead th {\n",
       "        text-align: right;\n",
       "    }\n",
       "</style>\n",
       "<table border=\"1\" class=\"dataframe\">\n",
       "  <thead>\n",
       "    <tr style=\"text-align: right;\">\n",
       "      <th></th>\n",
       "      <th>previsao_internacoes</th>\n",
       "      <th>previsao_obitos</th>\n",
       "    </tr>\n",
       "  </thead>\n",
       "  <tbody>\n",
       "    <tr>\n",
       "      <th>2019-08-01</th>\n",
       "      <td>1009604.133</td>\n",
       "      <td>43751.284</td>\n",
       "    </tr>\n",
       "    <tr>\n",
       "      <th>2019-09-01</th>\n",
       "      <td>1004444.541</td>\n",
       "      <td>225625.996</td>\n",
       "    </tr>\n",
       "    <tr>\n",
       "      <th>2019-10-01</th>\n",
       "      <td>1001320.282</td>\n",
       "      <td>229263.315</td>\n",
       "    </tr>\n",
       "    <tr>\n",
       "      <th>2019-11-01</th>\n",
       "      <td>999428.468</td>\n",
       "      <td>228685.468</td>\n",
       "    </tr>\n",
       "    <tr>\n",
       "      <th>2019-12-01</th>\n",
       "      <td>998282.929</td>\n",
       "      <td>228262.977</td>\n",
       "    </tr>\n",
       "    <tr>\n",
       "      <th>2020-01-01</th>\n",
       "      <td>997589.277</td>\n",
       "      <td>228005.254</td>\n",
       "    </tr>\n",
       "  </tbody>\n",
       "</table>\n",
       "</div>"
      ],
      "text/plain": [
       "            previsao_internacoes previsao_obitos\n",
       "2019-08-01           1009604.133       43751.284\n",
       "2019-09-01           1004444.541      225625.996\n",
       "2019-10-01           1001320.282      229263.315\n",
       "2019-11-01            999428.468      228685.468\n",
       "2019-12-01            998282.929      228262.977\n",
       "2020-01-01            997589.277      228005.254"
      ]
     },
     "execution_count": 75,
     "metadata": {},
     "output_type": "execute_result"
    }
   ],
   "source": [
    "prev"
   ]
  },
  {
   "cell_type": "markdown",
   "id": "0c369616",
   "metadata": {
    "hidden": true
   },
   "source": [
    "Agora temos também os resultados das previsões de óbitos. Lembrando que a mesma ressalva que foi feita no caso das previsões de internaçõe segue aqui: estamos usando dados que prevemos para fazer previsões de prazos posteriores, o que não é recomendado."
   ]
  },
  {
   "cell_type": "code",
   "execution_count": 76,
   "id": "7578a4b2",
   "metadata": {
    "hidden": true,
    "scrolled": true
   },
   "outputs": [
    {
     "data": {
      "image/png": "[encoded data removed]",
      "text/plain": [
       "<Figure size 842.4x595.44 with 1 Axes>"
      ]
     },
     "metadata": {},
     "output_type": "display_data"
    }
   ],
   "source": [
    "prev['previsao_obitos'].plot();"
   ]
  },
  {
   "cell_type": "markdown",
   "id": "ced4a043",
   "metadata": {
    "hidden": true
   },
   "source": [
    "## 5.3 Valor Médio de AIH "
   ]
  },
  {
   "cell_type": "markdown",
   "id": "b7499ef5",
   "metadata": {
    "hidden": true
   },
   "source": [
    "Para o valor médio de AIH, vamos usar a mesma lógica que usamos para óbitos. Vamos usar as informações de internacoes e valor total disponíveis no período anterior para estimarmos o valor médio de aih do período atual. \n",
    "\n",
    "Como queremos uma projeção de 6 meses, isso quer dizer que vamos ter que fazer o mesmo exercício de previsão para o valor total antes de prevermos o valor médio de AIH. "
   ]
  },
  {
   "cell_type": "code",
   "execution_count": 77,
   "id": "edd46e19",
   "metadata": {
    "hidden": true
   },
   "outputs": [],
   "source": [
    "df_vt = df_vmaih.drop('valor_medio_aih', axis = 1).copy() "
   ]
  },
  {
   "cell_type": "markdown",
   "id": "578a4d5c",
   "metadata": {
    "hidden": true
   },
   "source": [
    "### 5.3.1 Previsão Valor Total de AIH"
   ]
  },
  {
   "cell_type": "markdown",
   "id": "91557897",
   "metadata": {
    "heading_collapsed": true,
    "hidden": true
   },
   "source": [
    "#### 5.3.1.1 Naive"
   ]
  },
  {
   "cell_type": "code",
   "execution_count": 78,
   "id": "eaac08f0",
   "metadata": {
    "hidden": true
   },
   "outputs": [],
   "source": [
    "df_vt['month_year'] = pd.to_datetime(df_vt['month_year']) \n",
    "df_vt.set_index('month_year', inplace=True)\n",
    "df_vt['naive'] = df_vt['valor_total'].shift(1)"
   ]
  },
  {
   "cell_type": "code",
   "execution_count": 79,
   "id": "f1bf67a7",
   "metadata": {
    "hidden": true
   },
   "outputs": [
    {
     "data": {
      "image/png": "[encoded data removed]",
      "text/plain": [
       "<Figure size 576x360 with 1 Axes>"
      ]
     },
     "metadata": {},
     "output_type": "display_data"
    }
   ],
   "source": [
    "df_vt[['naive', 'valor_total']].plot(figsize=(8,5));"
   ]
  },
  {
   "cell_type": "code",
   "execution_count": 80,
   "id": "198f4c33",
   "metadata": {
    "hidden": true
   },
   "outputs": [
    {
     "name": "stdout",
     "output_type": "stream",
     "text": [
      "O erro absoluto médio mensal é de 2.48097e+07 enquanto o erro quadrático médio mensal é de 1.037296633e+15.\n"
     ]
    }
   ],
   "source": [
    "mae = mean_absolute_error(df_vt['valor_total'].iloc[2:], df_vt['naive'].iloc[2:])\n",
    "mse = mean_squared_error(df_vt['valor_total'].iloc[2:], df_vt['naive'].iloc[2:])\n",
    "\n",
    "print(\"O erro absoluto médio mensal é de {:,.6} enquanto o erro quadrático médio mensal é de {:,.10}.\".format(mae, mse))"
   ]
  },
  {
   "cell_type": "markdown",
   "id": "855dd478",
   "metadata": {
    "heading_collapsed": true,
    "hidden": true,
    "scrolled": true
   },
   "source": [
    "#### 5.3.1.2 Regressão Linear"
   ]
  },
  {
   "cell_type": "code",
   "execution_count": 81,
   "id": "1be904d7",
   "metadata": {
    "hidden": true
   },
   "outputs": [],
   "source": [
    "df_vt['internacoes_lag'] = df_vt['internacoes'].shift(1)\n",
    "df_vt['valor_total_lag'] = df_vt['valor_total'].shift(1)\n",
    "df_vt.dropna(axis = 0, inplace = True)"
   ]
  },
  {
   "cell_type": "code",
   "execution_count": 82,
   "id": "6542ff42",
   "metadata": {
    "hidden": true
   },
   "outputs": [],
   "source": [
    "# set X and y\n",
    "X = df_vt[['internacoes_lag', 'valor_total_lag']]\n",
    "y = df_vt['valor_total']\n",
    "\n",
    "# define train and test set\n",
    "train_size = 0.75\n",
    "X_train = X.iloc[:int(len(df_vt)*train_size)]\n",
    "X_test = X.iloc[int(len(df_vt)*train_size):]\n",
    "y_train = y.iloc[:int(len(df_vt)*train_size)]\n",
    "y_test = y.iloc[int(len(df_vt)*train_size):]\n",
    "\n",
    "# set model\n",
    "reg = LinearRegression()"
   ]
  },
  {
   "cell_type": "code",
   "execution_count": 83,
   "id": "954bca71",
   "metadata": {
    "hidden": true
   },
   "outputs": [
    {
     "name": "stdout",
     "output_type": "stream",
     "text": [
      "O erro absoluto médio é de 3.8032e+07 e o erro quadrático é de 1.896463097e+15.\n"
     ]
    }
   ],
   "source": [
    "# training model\n",
    "reg.fit(X_train, y_train)\n",
    "\n",
    "# predicting values\n",
    "y_pred = reg.predict(X_test)\n",
    "\n",
    "# evaluating model\n",
    "\n",
    "mae = mean_absolute_error(y_test, y_pred)\n",
    "mse = mean_squared_error(y_test, y_pred)\n",
    "\n",
    "print(\"O erro absoluto médio é de {:,.5} e o erro quadrático é de {:,.10}.\".format(mae,mse))"
   ]
  },
  {
   "cell_type": "markdown",
   "id": "ed58314d",
   "metadata": {
    "hidden": true
   },
   "source": [
    "Nosso modelo de regressão teve performance inferior ao modelo naive, por isso usaremos o modelo mais simples para prever nosso valor total. Porém, isso vai fazer com que o nosso valor fique constante a partir do segundo mês previsto, já que não temos as ocorrências reais para balizar."
   ]
  },
  {
   "cell_type": "markdown",
   "id": "9a277847",
   "metadata": {
    "heading_collapsed": true,
    "hidden": true
   },
   "source": [
    "### 5.3.2 Previsão Valor Total"
   ]
  },
  {
   "cell_type": "code",
   "execution_count": 84,
   "id": "0641f659",
   "metadata": {
    "hidden": true
   },
   "outputs": [
    {
     "name": "stderr",
     "output_type": "stream",
     "text": [
      "/home/julia-penalva/.pyenv/versions/3.10.1/lib/python3.10/site-packages/pandas/core/indexing.py:1732: SettingWithCopyWarning: \n",
      "A value is trying to be set on a copy of a slice from a DataFrame\n",
      "\n",
      "See the caveats in the documentation: https://pandas.pydata.org/pandas-docs/stable/user_guide/indexing.html#returning-a-view-versus-a-copy\n",
      "  self._setitem_single_block(indexer, value, name)\n"
     ]
    }
   ],
   "source": [
    "# joining the obitos prevision with the internacoes\n",
    "prev = pd.concat([prev, pd.DataFrame(columns = ['previsao_vt'])])\n",
    "prev['previsao_vt'].iloc[0] = df_vt['valor_total'].iloc[len(df_vt)-1]\n",
    "prev['previsao_vt'].ffill(axis = 0, inplace = True)"
   ]
  },
  {
   "cell_type": "code",
   "execution_count": 85,
   "id": "6e7d3ece",
   "metadata": {
    "hidden": true
   },
   "outputs": [
    {
     "data": {
      "text/html": [
       "<div>\n",
       "<style scoped>\n",
       "    .dataframe tbody tr th:only-of-type {\n",
       "        vertical-align: middle;\n",
       "    }\n",
       "\n",
       "    .dataframe tbody tr th {\n",
       "        vertical-align: top;\n",
       "    }\n",
       "\n",
       "    .dataframe thead th {\n",
       "        text-align: right;\n",
       "    }\n",
       "</style>\n",
       "<table border=\"1\" class=\"dataframe\">\n",
       "  <thead>\n",
       "    <tr style=\"text-align: right;\">\n",
       "      <th></th>\n",
       "      <th>previsao_internacoes</th>\n",
       "      <th>previsao_obitos</th>\n",
       "      <th>previsao_vt</th>\n",
       "    </tr>\n",
       "  </thead>\n",
       "  <tbody>\n",
       "    <tr>\n",
       "      <th>2019-08-01</th>\n",
       "      <td>1009604.133</td>\n",
       "      <td>43751.284</td>\n",
       "      <td>1352327454.580</td>\n",
       "    </tr>\n",
       "    <tr>\n",
       "      <th>2019-09-01</th>\n",
       "      <td>1004444.541</td>\n",
       "      <td>225625.996</td>\n",
       "      <td>1352327454.580</td>\n",
       "    </tr>\n",
       "    <tr>\n",
       "      <th>2019-10-01</th>\n",
       "      <td>1001320.282</td>\n",
       "      <td>229263.315</td>\n",
       "      <td>1352327454.580</td>\n",
       "    </tr>\n",
       "    <tr>\n",
       "      <th>2019-11-01</th>\n",
       "      <td>999428.468</td>\n",
       "      <td>228685.468</td>\n",
       "      <td>1352327454.580</td>\n",
       "    </tr>\n",
       "    <tr>\n",
       "      <th>2019-12-01</th>\n",
       "      <td>998282.929</td>\n",
       "      <td>228262.977</td>\n",
       "      <td>1352327454.580</td>\n",
       "    </tr>\n",
       "    <tr>\n",
       "      <th>2020-01-01</th>\n",
       "      <td>997589.277</td>\n",
       "      <td>228005.254</td>\n",
       "      <td>1352327454.580</td>\n",
       "    </tr>\n",
       "  </tbody>\n",
       "</table>\n",
       "</div>"
      ],
      "text/plain": [
       "            previsao_internacoes previsao_obitos    previsao_vt\n",
       "2019-08-01           1009604.133       43751.284 1352327454.580\n",
       "2019-09-01           1004444.541      225625.996 1352327454.580\n",
       "2019-10-01           1001320.282      229263.315 1352327454.580\n",
       "2019-11-01            999428.468      228685.468 1352327454.580\n",
       "2019-12-01            998282.929      228262.977 1352327454.580\n",
       "2020-01-01            997589.277      228005.254 1352327454.580"
      ]
     },
     "execution_count": 85,
     "metadata": {},
     "output_type": "execute_result"
    }
   ],
   "source": [
    "prev"
   ]
  },
  {
   "cell_type": "markdown",
   "id": "9932b3b4",
   "metadata": {
    "hidden": true
   },
   "source": [
    "### 5.3.3. Modelo Valor Médio AIH"
   ]
  },
  {
   "cell_type": "code",
   "execution_count": 86,
   "id": "50b367b7",
   "metadata": {
    "hidden": true,
    "scrolled": true
   },
   "outputs": [
    {
     "data": {
      "text/html": [
       "<div>\n",
       "<style scoped>\n",
       "    .dataframe tbody tr th:only-of-type {\n",
       "        vertical-align: middle;\n",
       "    }\n",
       "\n",
       "    .dataframe tbody tr th {\n",
       "        vertical-align: top;\n",
       "    }\n",
       "\n",
       "    .dataframe thead th {\n",
       "        text-align: right;\n",
       "    }\n",
       "</style>\n",
       "<table border=\"1\" class=\"dataframe\">\n",
       "  <thead>\n",
       "    <tr style=\"text-align: right;\">\n",
       "      <th></th>\n",
       "      <th>month_year</th>\n",
       "      <th>internacoes</th>\n",
       "      <th>valor_total</th>\n",
       "      <th>valor_medio_aih</th>\n",
       "    </tr>\n",
       "  </thead>\n",
       "  <tbody>\n",
       "    <tr>\n",
       "      <th>0</th>\n",
       "      <td>2017-12</td>\n",
       "      <td>939601.000</td>\n",
       "      <td>1201828188.240</td>\n",
       "      <td>1109.117</td>\n",
       "    </tr>\n",
       "    <tr>\n",
       "      <th>1</th>\n",
       "      <td>2018-01</td>\n",
       "      <td>966911.500</td>\n",
       "      <td>1225699479.905</td>\n",
       "      <td>1106.674</td>\n",
       "    </tr>\n",
       "    <tr>\n",
       "      <th>2</th>\n",
       "      <td>2018-02</td>\n",
       "      <td>966911.500</td>\n",
       "      <td>1225699479.905</td>\n",
       "      <td>1106.674</td>\n",
       "    </tr>\n",
       "    <tr>\n",
       "      <th>3</th>\n",
       "      <td>2018-03</td>\n",
       "      <td>994222.000</td>\n",
       "      <td>1249570771.570</td>\n",
       "      <td>1104.230</td>\n",
       "    </tr>\n",
       "    <tr>\n",
       "      <th>4</th>\n",
       "      <td>2018-04</td>\n",
       "      <td>1006271.000</td>\n",
       "      <td>1265569345.190</td>\n",
       "      <td>1099.852</td>\n",
       "    </tr>\n",
       "    <tr>\n",
       "      <th>5</th>\n",
       "      <td>2018-05</td>\n",
       "      <td>1018405.000</td>\n",
       "      <td>1279917419.730</td>\n",
       "      <td>1089.775</td>\n",
       "    </tr>\n",
       "    <tr>\n",
       "      <th>6</th>\n",
       "      <td>2018-06</td>\n",
       "      <td>1016210.500</td>\n",
       "      <td>1290689956.310</td>\n",
       "      <td>1104.390</td>\n",
       "    </tr>\n",
       "    <tr>\n",
       "      <th>7</th>\n",
       "      <td>2018-07</td>\n",
       "      <td>1014016.000</td>\n",
       "      <td>1301462492.890</td>\n",
       "      <td>1119.005</td>\n",
       "    </tr>\n",
       "    <tr>\n",
       "      <th>8</th>\n",
       "      <td>2018-08</td>\n",
       "      <td>1020220.000</td>\n",
       "      <td>1316574487.520</td>\n",
       "      <td>1125.486</td>\n",
       "    </tr>\n",
       "    <tr>\n",
       "      <th>9</th>\n",
       "      <td>2018-09</td>\n",
       "      <td>988931.000</td>\n",
       "      <td>1272478809.490</td>\n",
       "      <td>1122.483</td>\n",
       "    </tr>\n",
       "    <tr>\n",
       "      <th>10</th>\n",
       "      <td>2018-10</td>\n",
       "      <td>978677.000</td>\n",
       "      <td>1263309754.060</td>\n",
       "      <td>1127.978</td>\n",
       "    </tr>\n",
       "    <tr>\n",
       "      <th>11</th>\n",
       "      <td>2018-11</td>\n",
       "      <td>968423.000</td>\n",
       "      <td>1254140698.630</td>\n",
       "      <td>1133.474</td>\n",
       "    </tr>\n",
       "    <tr>\n",
       "      <th>12</th>\n",
       "      <td>2018-12</td>\n",
       "      <td>932863.000</td>\n",
       "      <td>1218271415.110</td>\n",
       "      <td>1139.332</td>\n",
       "    </tr>\n",
       "    <tr>\n",
       "      <th>13</th>\n",
       "      <td>2019-01</td>\n",
       "      <td>980496.000</td>\n",
       "      <td>1288031980.070</td>\n",
       "      <td>1151.341</td>\n",
       "    </tr>\n",
       "    <tr>\n",
       "      <th>14</th>\n",
       "      <td>2019-02</td>\n",
       "      <td>947202.000</td>\n",
       "      <td>1226362165.530</td>\n",
       "      <td>1136.357</td>\n",
       "    </tr>\n",
       "    <tr>\n",
       "      <th>15</th>\n",
       "      <td>2019-03</td>\n",
       "      <td>980133.500</td>\n",
       "      <td>1262705858.780</td>\n",
       "      <td>1134.908</td>\n",
       "    </tr>\n",
       "    <tr>\n",
       "      <th>16</th>\n",
       "      <td>2019-04</td>\n",
       "      <td>1013065.000</td>\n",
       "      <td>1299049552.030</td>\n",
       "      <td>1133.459</td>\n",
       "    </tr>\n",
       "    <tr>\n",
       "      <th>17</th>\n",
       "      <td>2019-05</td>\n",
       "      <td>1009240.500</td>\n",
       "      <td>1300879710.510</td>\n",
       "      <td>1136.151</td>\n",
       "    </tr>\n",
       "    <tr>\n",
       "      <th>18</th>\n",
       "      <td>2019-06</td>\n",
       "      <td>1005416.000</td>\n",
       "      <td>1302709868.990</td>\n",
       "      <td>1138.843</td>\n",
       "    </tr>\n",
       "    <tr>\n",
       "      <th>19</th>\n",
       "      <td>2019-07</td>\n",
       "      <td>1018125.000</td>\n",
       "      <td>1352327454.580</td>\n",
       "      <td>1175.484</td>\n",
       "    </tr>\n",
       "  </tbody>\n",
       "</table>\n",
       "</div>"
      ],
      "text/plain": [
       "   month_year  internacoes    valor_total  valor_medio_aih\n",
       "0     2017-12   939601.000 1201828188.240         1109.117\n",
       "1     2018-01   966911.500 1225699479.905         1106.674\n",
       "2     2018-02   966911.500 1225699479.905         1106.674\n",
       "3     2018-03   994222.000 1249570771.570         1104.230\n",
       "4     2018-04  1006271.000 1265569345.190         1099.852\n",
       "5     2018-05  1018405.000 1279917419.730         1089.775\n",
       "6     2018-06  1016210.500 1290689956.310         1104.390\n",
       "7     2018-07  1014016.000 1301462492.890         1119.005\n",
       "8     2018-08  1020220.000 1316574487.520         1125.486\n",
       "9     2018-09   988931.000 1272478809.490         1122.483\n",
       "10    2018-10   978677.000 1263309754.060         1127.978\n",
       "11    2018-11   968423.000 1254140698.630         1133.474\n",
       "12    2018-12   932863.000 1218271415.110         1139.332\n",
       "13    2019-01   980496.000 1288031980.070         1151.341\n",
       "14    2019-02   947202.000 1226362165.530         1136.357\n",
       "15    2019-03   980133.500 1262705858.780         1134.908\n",
       "16    2019-04  1013065.000 1299049552.030         1133.459\n",
       "17    2019-05  1009240.500 1300879710.510         1136.151\n",
       "18    2019-06  1005416.000 1302709868.990         1138.843\n",
       "19    2019-07  1018125.000 1352327454.580         1175.484"
      ]
     },
     "execution_count": 86,
     "metadata": {},
     "output_type": "execute_result"
    }
   ],
   "source": [
    "df_vmaih"
   ]
  },
  {
   "cell_type": "markdown",
   "id": "1a179e67",
   "metadata": {
    "hidden": true
   },
   "source": [
    "#### 5.3.3.1 Naive"
   ]
  },
  {
   "cell_type": "code",
   "execution_count": 87,
   "id": "dc49b5c3",
   "metadata": {
    "hidden": true
   },
   "outputs": [
    {
     "name": "stderr",
     "output_type": "stream",
     "text": [
      "/tmp/ipykernel_14537/491521400.py:1: SettingWithCopyWarning: \n",
      "A value is trying to be set on a copy of a slice from a DataFrame.\n",
      "Try using .loc[row_indexer,col_indexer] = value instead\n",
      "\n",
      "See the caveats in the documentation: https://pandas.pydata.org/pandas-docs/stable/user_guide/indexing.html#returning-a-view-versus-a-copy\n",
      "  df_vmaih['month_year'] = pd.to_datetime(df_vmaih['month_year'])\n",
      "/tmp/ipykernel_14537/491521400.py:3: SettingWithCopyWarning: \n",
      "A value is trying to be set on a copy of a slice from a DataFrame.\n",
      "Try using .loc[row_indexer,col_indexer] = value instead\n",
      "\n",
      "See the caveats in the documentation: https://pandas.pydata.org/pandas-docs/stable/user_guide/indexing.html#returning-a-view-versus-a-copy\n",
      "  df_vmaih['naive'] = df_vmaih['valor_medio_aih'].shift(1)\n"
     ]
    }
   ],
   "source": [
    "df_vmaih['month_year'] = pd.to_datetime(df_vmaih['month_year']) \n",
    "df_vmaih.set_index('month_year', inplace=True)\n",
    "df_vmaih['naive'] = df_vmaih['valor_medio_aih'].shift(1)"
   ]
  },
  {
   "cell_type": "code",
   "execution_count": 88,
   "id": "6f8494b3",
   "metadata": {
    "hidden": true
   },
   "outputs": [
    {
     "data": {
      "image/png": "[encoded data removed]",
      "text/plain": [
       "<Figure size 576x360 with 1 Axes>"
      ]
     },
     "metadata": {},
     "output_type": "display_data"
    }
   ],
   "source": [
    "df_vmaih[['naive', 'valor_medio_aih']].plot(figsize=(8,5));"
   ]
  },
  {
   "cell_type": "code",
   "execution_count": 89,
   "id": "ca43c057",
   "metadata": {
    "hidden": true
   },
   "outputs": [
    {
     "name": "stdout",
     "output_type": "stream",
     "text": [
      "O erro absoluto médio mensal é de 8.02102 enquanto o erro quadrático médio mensal é de 134.9796113.\n"
     ]
    }
   ],
   "source": [
    "mae = mean_absolute_error(df_vmaih['valor_medio_aih'].iloc[2:], df_vmaih['naive'].iloc[2:])\n",
    "mse = mean_squared_error(df_vmaih['valor_medio_aih'].iloc[2:], df_vmaih['naive'].iloc[2:])\n",
    "\n",
    "print(\"O erro absoluto médio mensal é de {:,.6} enquanto o erro quadrático médio mensal é de {:,.10}.\".format(mae, mse))"
   ]
  },
  {
   "cell_type": "markdown",
   "id": "3e4aede2",
   "metadata": {
    "hidden": true
   },
   "source": [
    "#### 5.3.3.2 Regressão"
   ]
  },
  {
   "cell_type": "code",
   "execution_count": 90,
   "id": "f1122f3b",
   "metadata": {
    "hidden": true,
    "scrolled": true
   },
   "outputs": [
    {
     "name": "stderr",
     "output_type": "stream",
     "text": [
      "/tmp/ipykernel_14537/3339968311.py:1: SettingWithCopyWarning: \n",
      "A value is trying to be set on a copy of a slice from a DataFrame.\n",
      "Try using .loc[row_indexer,col_indexer] = value instead\n",
      "\n",
      "See the caveats in the documentation: https://pandas.pydata.org/pandas-docs/stable/user_guide/indexing.html#returning-a-view-versus-a-copy\n",
      "  df_vmaih['internacoes_lag'] = df_vmaih['internacoes'].shift(1)\n",
      "/tmp/ipykernel_14537/3339968311.py:2: SettingWithCopyWarning: \n",
      "A value is trying to be set on a copy of a slice from a DataFrame.\n",
      "Try using .loc[row_indexer,col_indexer] = value instead\n",
      "\n",
      "See the caveats in the documentation: https://pandas.pydata.org/pandas-docs/stable/user_guide/indexing.html#returning-a-view-versus-a-copy\n",
      "  df_vmaih['valor_total_lag'] = df_vmaih['valor_total'].shift(1)\n",
      "/tmp/ipykernel_14537/3339968311.py:3: SettingWithCopyWarning: \n",
      "A value is trying to be set on a copy of a slice from a DataFrame.\n",
      "Try using .loc[row_indexer,col_indexer] = value instead\n",
      "\n",
      "See the caveats in the documentation: https://pandas.pydata.org/pandas-docs/stable/user_guide/indexing.html#returning-a-view-versus-a-copy\n",
      "  df_vmaih['vmaih_lag'] = df_vmaih['valor_medio_aih'].shift(1)\n",
      "/home/julia-penalva/.pyenv/versions/3.10.1/lib/python3.10/site-packages/pandas/util/_decorators.py:311: SettingWithCopyWarning: \n",
      "A value is trying to be set on a copy of a slice from a DataFrame\n",
      "\n",
      "See the caveats in the documentation: https://pandas.pydata.org/pandas-docs/stable/user_guide/indexing.html#returning-a-view-versus-a-copy\n",
      "  return func(*args, **kwargs)\n"
     ]
    }
   ],
   "source": [
    "df_vmaih['internacoes_lag'] = df_vmaih['internacoes'].shift(1)\n",
    "df_vmaih['valor_total_lag'] = df_vmaih['valor_total'].shift(1)\n",
    "df_vmaih['vmaih_lag'] = df_vmaih['valor_medio_aih'].shift(1)\n",
    "df_vmaih.dropna(axis = 0, inplace = True)"
   ]
  },
  {
   "cell_type": "code",
   "execution_count": 91,
   "id": "51283e9f",
   "metadata": {
    "hidden": true
   },
   "outputs": [],
   "source": [
    "# set X and y\n",
    "X = df_vmaih[['internacoes_lag', 'valor_total_lag', 'vmaih_lag']]\n",
    "y = df_vmaih['valor_medio_aih']\n",
    "\n",
    "# define train and test set\n",
    "train_size = 0.75\n",
    "X_train = X.iloc[:int(len(df_vmaih)*train_size)]\n",
    "X_test = X.iloc[int(len(df_vmaih)*train_size):]\n",
    "y_train = y.iloc[:int(len(df_vmaih)*train_size)]\n",
    "y_test = y.iloc[int(len(df_vmaih)*train_size):]\n",
    "\n",
    "# set model\n",
    "reg = LinearRegression()"
   ]
  },
  {
   "cell_type": "code",
   "execution_count": 92,
   "id": "58499f70",
   "metadata": {
    "hidden": true
   },
   "outputs": [
    {
     "name": "stdout",
     "output_type": "stream",
     "text": [
      "O erro absoluto médio é de 16.811 e o erro quadrático é de 462.7684414.\n"
     ]
    }
   ],
   "source": [
    "# training model\n",
    "reg.fit(X_train, y_train)\n",
    "\n",
    "# predicting values\n",
    "y_pred = reg.predict(X_test)\n",
    "\n",
    "# evaluating model\n",
    "\n",
    "mae = mean_absolute_error(y_test, y_pred)\n",
    "mse = mean_squared_error(y_test, y_pred)\n",
    "\n",
    "print(\"O erro absoluto médio é de {:,.5} e o erro quadrático é de {:,.10}.\".format(mae,mse))"
   ]
  },
  {
   "cell_type": "markdown",
   "id": "895e97da",
   "metadata": {
    "hidden": true
   },
   "source": [
    "Assim como na previsão de valor total, o valor médio também é melhor previsto simplesmente pelo seu valor anterior, através do modelo Naive, então utilizaremos ele para fazer a previsão."
   ]
  },
  {
   "cell_type": "markdown",
   "id": "2c264ea2",
   "metadata": {
    "hidden": true
   },
   "source": [
    "### 5.3.1 Previsão"
   ]
  },
  {
   "cell_type": "code",
   "execution_count": 93,
   "id": "6da5443c",
   "metadata": {
    "hidden": true
   },
   "outputs": [
    {
     "name": "stderr",
     "output_type": "stream",
     "text": [
      "/home/julia-penalva/.pyenv/versions/3.10.1/lib/python3.10/site-packages/pandas/core/indexing.py:1732: SettingWithCopyWarning: \n",
      "A value is trying to be set on a copy of a slice from a DataFrame\n",
      "\n",
      "See the caveats in the documentation: https://pandas.pydata.org/pandas-docs/stable/user_guide/indexing.html#returning-a-view-versus-a-copy\n",
      "  self._setitem_single_block(indexer, value, name)\n"
     ]
    }
   ],
   "source": [
    "# acrescentando a previsão de valor médio ao nosso df de previsões\n",
    "prev = pd.concat([prev, pd.DataFrame(columns = ['previsao_media_aih'])])\n",
    "prev['previsao_media_aih'].iloc[0] = df_vmaih['valor_medio_aih'].iloc[len(df_vmaih)-1]"
   ]
  },
  {
   "cell_type": "code",
   "execution_count": 94,
   "id": "17c09d0c",
   "metadata": {
    "hidden": true
   },
   "outputs": [],
   "source": [
    "prev['previsao_media_aih'].ffill(inplace=True)"
   ]
  },
  {
   "cell_type": "code",
   "execution_count": 95,
   "id": "9cb539ea",
   "metadata": {
    "hidden": true
   },
   "outputs": [
    {
     "data": {
      "text/html": [
       "<div>\n",
       "<style scoped>\n",
       "    .dataframe tbody tr th:only-of-type {\n",
       "        vertical-align: middle;\n",
       "    }\n",
       "\n",
       "    .dataframe tbody tr th {\n",
       "        vertical-align: top;\n",
       "    }\n",
       "\n",
       "    .dataframe thead th {\n",
       "        text-align: right;\n",
       "    }\n",
       "</style>\n",
       "<table border=\"1\" class=\"dataframe\">\n",
       "  <thead>\n",
       "    <tr style=\"text-align: right;\">\n",
       "      <th></th>\n",
       "      <th>previsao_internacoes</th>\n",
       "      <th>previsao_obitos</th>\n",
       "      <th>previsao_vt</th>\n",
       "      <th>previsao_media_aih</th>\n",
       "    </tr>\n",
       "  </thead>\n",
       "  <tbody>\n",
       "    <tr>\n",
       "      <th>2019-08-01</th>\n",
       "      <td>1009604.133</td>\n",
       "      <td>43751.284</td>\n",
       "      <td>1352327454.580</td>\n",
       "      <td>1175.484</td>\n",
       "    </tr>\n",
       "    <tr>\n",
       "      <th>2019-09-01</th>\n",
       "      <td>1004444.541</td>\n",
       "      <td>225625.996</td>\n",
       "      <td>1352327454.580</td>\n",
       "      <td>1175.484</td>\n",
       "    </tr>\n",
       "    <tr>\n",
       "      <th>2019-10-01</th>\n",
       "      <td>1001320.282</td>\n",
       "      <td>229263.315</td>\n",
       "      <td>1352327454.580</td>\n",
       "      <td>1175.484</td>\n",
       "    </tr>\n",
       "    <tr>\n",
       "      <th>2019-11-01</th>\n",
       "      <td>999428.468</td>\n",
       "      <td>228685.468</td>\n",
       "      <td>1352327454.580</td>\n",
       "      <td>1175.484</td>\n",
       "    </tr>\n",
       "    <tr>\n",
       "      <th>2019-12-01</th>\n",
       "      <td>998282.929</td>\n",
       "      <td>228262.977</td>\n",
       "      <td>1352327454.580</td>\n",
       "      <td>1175.484</td>\n",
       "    </tr>\n",
       "    <tr>\n",
       "      <th>2020-01-01</th>\n",
       "      <td>997589.277</td>\n",
       "      <td>228005.254</td>\n",
       "      <td>1352327454.580</td>\n",
       "      <td>1175.484</td>\n",
       "    </tr>\n",
       "  </tbody>\n",
       "</table>\n",
       "</div>"
      ],
      "text/plain": [
       "            previsao_internacoes previsao_obitos    previsao_vt  \\\n",
       "2019-08-01           1009604.133       43751.284 1352327454.580   \n",
       "2019-09-01           1004444.541      225625.996 1352327454.580   \n",
       "2019-10-01           1001320.282      229263.315 1352327454.580   \n",
       "2019-11-01            999428.468      228685.468 1352327454.580   \n",
       "2019-12-01            998282.929      228262.977 1352327454.580   \n",
       "2020-01-01            997589.277      228005.254 1352327454.580   \n",
       "\n",
       "            previsao_media_aih  \n",
       "2019-08-01            1175.484  \n",
       "2019-09-01            1175.484  \n",
       "2019-10-01            1175.484  \n",
       "2019-11-01            1175.484  \n",
       "2019-12-01            1175.484  \n",
       "2020-01-01            1175.484  "
      ]
     },
     "execution_count": 95,
     "metadata": {},
     "output_type": "execute_result"
    }
   ],
   "source": [
    "prev"
   ]
  },
  {
   "cell_type": "markdown",
   "id": "5e613db7",
   "metadata": {
    "heading_collapsed": true
   },
   "source": [
    "# 6. Planejamento estratégico"
   ]
  },
  {
   "cell_type": "markdown",
   "id": "fc8b3ac9",
   "metadata": {
    "hidden": true
   },
   "source": [
    "Para realizar um planejamento visando reduzir o número de informações, deveriamos lidar com variáveis causadoras das internações, dados que não tivemos acesso na nossa base original.\n",
    "\n",
    "A relação deveria ser estudada, mas possíveis explicações para o número de internações poderia ser a população do local, o número de acidentes, o clima, campanhas de vacinação na região e sua adesão, índices de criminalidade, saneamento feito na região, etc. Poderíamos ter uma noção melhor se tivéssemos uma base de dados com todas as internações e a causa delas, assim poderíamos estudar as principais doenças ou acidentes que causam internações e estudar as principais causas de cada uma das doenças. \n",
    "\n",
    "Dessa forma, para reduzir o número de internações deveria ser feito um estudo das principais causas de internações e procurar atuar para reduzir essas causas.\n",
    "\n",
    "Essa visão geral de pesquisa e entendimento de situação funcionaria para qualquer cidade ou UF estudada. \n",
    "\n",
    "Com essa base de dados o máximo que conseguimos é inferir o número de internações, óbitos e valores levando em consideração os valores anteriores das variáveis, preferencialmente somente para o período imediatamente seguinte."
   ]
  }
 ],
 "metadata": {
  "hide_input": false,
  "kernelspec": {
   "display_name": "case_sus",
   "language": "python",
   "name": "case_sus"
  },
  "language_info": {
   "codemirror_mode": {
    "name": "ipython",
    "version": 3
   },
   "file_extension": ".py",
   "mimetype": "text/x-python",
   "name": "python",
   "nbconvert_exporter": "python",
   "pygments_lexer": "ipython3",
   "version": "3.10.1"
  }
 },
 "nbformat": 4,
 "nbformat_minor": 5
}
